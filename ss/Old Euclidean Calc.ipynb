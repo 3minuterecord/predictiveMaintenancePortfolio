{
 "cells": [
  {
   "cell_type": "code",
   "execution_count": null,
   "id": "6503acae",
   "metadata": {},
   "outputs": [],
   "source": [
    "\"\"\"\n",
    "Create a list of distances between each point & its distance to cluster centroid\n",
    "Use 'np.linalg.norm' as the Euclidean distance is the l2 norm, \n",
    "and the default value of the ord parameter in numpy.linalg.norm is 2.\n",
    "\"\"\"\n",
    "distance_recalc = []\n",
    "for r in range(len(examine_cl)):\n",
    "    Xa = np.array(examine_cl.PC1.iloc[r], examine_cl.PC2.iloc[r])\n",
    "    Xb = np.array(examine_cl.x_coords.iloc[r], examine_cl.y_coords.iloc[r])\n",
    "    distance_recalc.append(np.linalg.norm(Xa - Xb))"
   ]
  }
 ],
 "metadata": {
  "kernelspec": {
   "display_name": "Python 3 (ipykernel)",
   "language": "python",
   "name": "python3"
  },
  "language_info": {
   "codemirror_mode": {
    "name": "ipython",
    "version": 3
   },
   "file_extension": ".py",
   "mimetype": "text/x-python",
   "name": "python",
   "nbconvert_exporter": "python",
   "pygments_lexer": "ipython3",
   "version": "3.8.12"
  }
 },
 "nbformat": 4,
 "nbformat_minor": 5
}
