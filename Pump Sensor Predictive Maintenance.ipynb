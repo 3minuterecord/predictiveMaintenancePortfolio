{
 "cells": [
  {
   "cell_type": "code",
   "execution_count": 2,
   "metadata": {},
   "outputs": [],
   "source": [
    "import pandas as pd\n",
    "import numpy as np\n",
    "import matplotlib.pyplot as plt # plotting\n",
    "import PdM_functions as pdm # custom functions created for this project that are used in several notebooks"
   ]
  },
  {
   "cell_type": "code",
   "execution_count": 3,
   "metadata": {},
   "outputs": [
    {
     "data": {
      "text/plain": [
       "0    2018-04-01 00:00:00\n",
       "1    2018-04-01 00:01:00\n",
       "2    2018-04-01 00:02:00\n",
       "Name: timestamp, dtype: object"
      ]
     },
     "execution_count": 3,
     "metadata": {},
     "output_type": "execute_result"
    }
   ],
   "source": [
    "# Water pump sensor data (via Kaggle datasets)\n",
    "selected_fp = 'data/Pump Sensors/sensor.csv'\n",
    "df_raw = pd.read_csv(selected_fp, sep = \",\")\n",
    "df_raw['timestamp'].head(3)"
   ]
  },
  {
   "cell_type": "code",
   "execution_count": 4,
   "metadata": {},
   "outputs": [
    {
     "data": {
      "text/html": [
       "<div>\n",
       "<style scoped>\n",
       "    .dataframe tbody tr th:only-of-type {\n",
       "        vertical-align: middle;\n",
       "    }\n",
       "\n",
       "    .dataframe tbody tr th {\n",
       "        vertical-align: top;\n",
       "    }\n",
       "\n",
       "    .dataframe thead th {\n",
       "        text-align: right;\n",
       "    }\n",
       "</style>\n",
       "<table border=\"1\" class=\"dataframe\">\n",
       "  <thead>\n",
       "    <tr style=\"text-align: right;\">\n",
       "      <th></th>\n",
       "      <th>Unnamed: 0</th>\n",
       "      <th>sensor_00</th>\n",
       "      <th>sensor_01</th>\n",
       "      <th>sensor_02</th>\n",
       "      <th>sensor_03</th>\n",
       "      <th>sensor_04</th>\n",
       "      <th>sensor_05</th>\n",
       "      <th>sensor_06</th>\n",
       "      <th>sensor_07</th>\n",
       "      <th>sensor_08</th>\n",
       "      <th>...</th>\n",
       "      <th>sensor_42</th>\n",
       "      <th>sensor_43</th>\n",
       "      <th>sensor_44</th>\n",
       "      <th>sensor_45</th>\n",
       "      <th>sensor_46</th>\n",
       "      <th>sensor_47</th>\n",
       "      <th>sensor_48</th>\n",
       "      <th>sensor_49</th>\n",
       "      <th>sensor_50</th>\n",
       "      <th>sensor_51</th>\n",
       "    </tr>\n",
       "  </thead>\n",
       "  <tbody>\n",
       "    <tr>\n",
       "      <th>count</th>\n",
       "      <td>220320.000000</td>\n",
       "      <td>210112.000000</td>\n",
       "      <td>219951.000000</td>\n",
       "      <td>220301.000000</td>\n",
       "      <td>220301.000000</td>\n",
       "      <td>220301.000000</td>\n",
       "      <td>220301.000000</td>\n",
       "      <td>215522.000000</td>\n",
       "      <td>214869.000000</td>\n",
       "      <td>215213.000000</td>\n",
       "      <td>...</td>\n",
       "      <td>220293.000000</td>\n",
       "      <td>220293.000000</td>\n",
       "      <td>220293.000000</td>\n",
       "      <td>220293.000000</td>\n",
       "      <td>220293.000000</td>\n",
       "      <td>220293.000000</td>\n",
       "      <td>220293.000000</td>\n",
       "      <td>220293.000000</td>\n",
       "      <td>143303.000000</td>\n",
       "      <td>204937.000000</td>\n",
       "    </tr>\n",
       "    <tr>\n",
       "      <th>mean</th>\n",
       "      <td>110159.500000</td>\n",
       "      <td>2.372221</td>\n",
       "      <td>47.591611</td>\n",
       "      <td>50.867392</td>\n",
       "      <td>43.752481</td>\n",
       "      <td>590.673936</td>\n",
       "      <td>73.396414</td>\n",
       "      <td>13.501537</td>\n",
       "      <td>15.843152</td>\n",
       "      <td>15.200721</td>\n",
       "      <td>...</td>\n",
       "      <td>35.453455</td>\n",
       "      <td>43.879591</td>\n",
       "      <td>42.656877</td>\n",
       "      <td>43.094984</td>\n",
       "      <td>48.018585</td>\n",
       "      <td>44.340903</td>\n",
       "      <td>150.889044</td>\n",
       "      <td>57.119968</td>\n",
       "      <td>183.049260</td>\n",
       "      <td>202.699667</td>\n",
       "    </tr>\n",
       "    <tr>\n",
       "      <th>std</th>\n",
       "      <td>63601.049991</td>\n",
       "      <td>0.412227</td>\n",
       "      <td>3.296666</td>\n",
       "      <td>3.666820</td>\n",
       "      <td>2.418887</td>\n",
       "      <td>144.023912</td>\n",
       "      <td>17.298247</td>\n",
       "      <td>2.163736</td>\n",
       "      <td>2.201155</td>\n",
       "      <td>2.037390</td>\n",
       "      <td>...</td>\n",
       "      <td>10.259521</td>\n",
       "      <td>11.044404</td>\n",
       "      <td>11.576355</td>\n",
       "      <td>12.837520</td>\n",
       "      <td>15.641284</td>\n",
       "      <td>10.442437</td>\n",
       "      <td>82.244957</td>\n",
       "      <td>19.143598</td>\n",
       "      <td>65.258650</td>\n",
       "      <td>109.588607</td>\n",
       "    </tr>\n",
       "    <tr>\n",
       "      <th>min</th>\n",
       "      <td>0.000000</td>\n",
       "      <td>0.000000</td>\n",
       "      <td>0.000000</td>\n",
       "      <td>33.159720</td>\n",
       "      <td>31.640620</td>\n",
       "      <td>2.798032</td>\n",
       "      <td>0.000000</td>\n",
       "      <td>0.014468</td>\n",
       "      <td>0.000000</td>\n",
       "      <td>0.028935</td>\n",
       "      <td>...</td>\n",
       "      <td>22.135416</td>\n",
       "      <td>24.479166</td>\n",
       "      <td>25.752316</td>\n",
       "      <td>26.331018</td>\n",
       "      <td>26.331018</td>\n",
       "      <td>27.199070</td>\n",
       "      <td>26.331018</td>\n",
       "      <td>26.620370</td>\n",
       "      <td>27.488426</td>\n",
       "      <td>27.777779</td>\n",
       "    </tr>\n",
       "    <tr>\n",
       "      <th>25%</th>\n",
       "      <td>55079.750000</td>\n",
       "      <td>2.438831</td>\n",
       "      <td>46.310760</td>\n",
       "      <td>50.390620</td>\n",
       "      <td>42.838539</td>\n",
       "      <td>626.620400</td>\n",
       "      <td>69.976260</td>\n",
       "      <td>13.346350</td>\n",
       "      <td>15.907120</td>\n",
       "      <td>15.183740</td>\n",
       "      <td>...</td>\n",
       "      <td>32.812500</td>\n",
       "      <td>39.583330</td>\n",
       "      <td>36.747684</td>\n",
       "      <td>36.747684</td>\n",
       "      <td>40.509258</td>\n",
       "      <td>39.062500</td>\n",
       "      <td>83.912030</td>\n",
       "      <td>47.743060</td>\n",
       "      <td>167.534700</td>\n",
       "      <td>179.108800</td>\n",
       "    </tr>\n",
       "    <tr>\n",
       "      <th>50%</th>\n",
       "      <td>110159.500000</td>\n",
       "      <td>2.456539</td>\n",
       "      <td>48.133678</td>\n",
       "      <td>51.649300</td>\n",
       "      <td>44.227428</td>\n",
       "      <td>632.638916</td>\n",
       "      <td>75.576790</td>\n",
       "      <td>13.642940</td>\n",
       "      <td>16.167530</td>\n",
       "      <td>15.494790</td>\n",
       "      <td>...</td>\n",
       "      <td>35.156250</td>\n",
       "      <td>42.968750</td>\n",
       "      <td>40.509260</td>\n",
       "      <td>40.219910</td>\n",
       "      <td>44.849540</td>\n",
       "      <td>42.534720</td>\n",
       "      <td>138.020800</td>\n",
       "      <td>52.662040</td>\n",
       "      <td>193.865700</td>\n",
       "      <td>197.338000</td>\n",
       "    </tr>\n",
       "    <tr>\n",
       "      <th>75%</th>\n",
       "      <td>165239.250000</td>\n",
       "      <td>2.499826</td>\n",
       "      <td>49.479160</td>\n",
       "      <td>52.777770</td>\n",
       "      <td>45.312500</td>\n",
       "      <td>637.615723</td>\n",
       "      <td>80.912150</td>\n",
       "      <td>14.539930</td>\n",
       "      <td>16.427950</td>\n",
       "      <td>15.697340</td>\n",
       "      <td>...</td>\n",
       "      <td>36.979164</td>\n",
       "      <td>46.614580</td>\n",
       "      <td>45.138890</td>\n",
       "      <td>44.849540</td>\n",
       "      <td>51.215280</td>\n",
       "      <td>46.585650</td>\n",
       "      <td>208.333300</td>\n",
       "      <td>60.763890</td>\n",
       "      <td>219.907400</td>\n",
       "      <td>216.724500</td>\n",
       "    </tr>\n",
       "    <tr>\n",
       "      <th>max</th>\n",
       "      <td>220319.000000</td>\n",
       "      <td>2.549016</td>\n",
       "      <td>56.727430</td>\n",
       "      <td>56.032990</td>\n",
       "      <td>48.220490</td>\n",
       "      <td>800.000000</td>\n",
       "      <td>99.999880</td>\n",
       "      <td>22.251160</td>\n",
       "      <td>23.596640</td>\n",
       "      <td>24.348960</td>\n",
       "      <td>...</td>\n",
       "      <td>374.218800</td>\n",
       "      <td>408.593700</td>\n",
       "      <td>1000.000000</td>\n",
       "      <td>320.312500</td>\n",
       "      <td>370.370400</td>\n",
       "      <td>303.530100</td>\n",
       "      <td>561.632000</td>\n",
       "      <td>464.409700</td>\n",
       "      <td>1000.000000</td>\n",
       "      <td>1000.000000</td>\n",
       "    </tr>\n",
       "  </tbody>\n",
       "</table>\n",
       "<p>8 rows × 53 columns</p>\n",
       "</div>"
      ],
      "text/plain": [
       "          Unnamed: 0      sensor_00      sensor_01      sensor_02  \\\n",
       "count  220320.000000  210112.000000  219951.000000  220301.000000   \n",
       "mean   110159.500000       2.372221      47.591611      50.867392   \n",
       "std     63601.049991       0.412227       3.296666       3.666820   \n",
       "min         0.000000       0.000000       0.000000      33.159720   \n",
       "25%     55079.750000       2.438831      46.310760      50.390620   \n",
       "50%    110159.500000       2.456539      48.133678      51.649300   \n",
       "75%    165239.250000       2.499826      49.479160      52.777770   \n",
       "max    220319.000000       2.549016      56.727430      56.032990   \n",
       "\n",
       "           sensor_03      sensor_04      sensor_05      sensor_06  \\\n",
       "count  220301.000000  220301.000000  220301.000000  215522.000000   \n",
       "mean       43.752481     590.673936      73.396414      13.501537   \n",
       "std         2.418887     144.023912      17.298247       2.163736   \n",
       "min        31.640620       2.798032       0.000000       0.014468   \n",
       "25%        42.838539     626.620400      69.976260      13.346350   \n",
       "50%        44.227428     632.638916      75.576790      13.642940   \n",
       "75%        45.312500     637.615723      80.912150      14.539930   \n",
       "max        48.220490     800.000000      99.999880      22.251160   \n",
       "\n",
       "           sensor_07      sensor_08  ...      sensor_42      sensor_43  \\\n",
       "count  214869.000000  215213.000000  ...  220293.000000  220293.000000   \n",
       "mean       15.843152      15.200721  ...      35.453455      43.879591   \n",
       "std         2.201155       2.037390  ...      10.259521      11.044404   \n",
       "min         0.000000       0.028935  ...      22.135416      24.479166   \n",
       "25%        15.907120      15.183740  ...      32.812500      39.583330   \n",
       "50%        16.167530      15.494790  ...      35.156250      42.968750   \n",
       "75%        16.427950      15.697340  ...      36.979164      46.614580   \n",
       "max        23.596640      24.348960  ...     374.218800     408.593700   \n",
       "\n",
       "           sensor_44      sensor_45      sensor_46      sensor_47  \\\n",
       "count  220293.000000  220293.000000  220293.000000  220293.000000   \n",
       "mean       42.656877      43.094984      48.018585      44.340903   \n",
       "std        11.576355      12.837520      15.641284      10.442437   \n",
       "min        25.752316      26.331018      26.331018      27.199070   \n",
       "25%        36.747684      36.747684      40.509258      39.062500   \n",
       "50%        40.509260      40.219910      44.849540      42.534720   \n",
       "75%        45.138890      44.849540      51.215280      46.585650   \n",
       "max      1000.000000     320.312500     370.370400     303.530100   \n",
       "\n",
       "           sensor_48      sensor_49      sensor_50      sensor_51  \n",
       "count  220293.000000  220293.000000  143303.000000  204937.000000  \n",
       "mean      150.889044      57.119968     183.049260     202.699667  \n",
       "std        82.244957      19.143598      65.258650     109.588607  \n",
       "min        26.331018      26.620370      27.488426      27.777779  \n",
       "25%        83.912030      47.743060     167.534700     179.108800  \n",
       "50%       138.020800      52.662040     193.865700     197.338000  \n",
       "75%       208.333300      60.763890     219.907400     216.724500  \n",
       "max       561.632000     464.409700    1000.000000    1000.000000  \n",
       "\n",
       "[8 rows x 53 columns]"
      ]
     },
     "execution_count": 4,
     "metadata": {},
     "output_type": "execute_result"
    }
   ],
   "source": [
    "df_raw.describe()"
   ]
  },
  {
   "cell_type": "code",
   "execution_count": 5,
   "metadata": {},
   "outputs": [],
   "source": [
    "# Convert timestamp to datetime datatype & sort\n",
    "df_raw = df_raw.drop('Unnamed: 0', axis = 1)\\\n",
    "  .assign(timestamp = lambda x: pd.to_datetime(x['timestamp'], format = '%Y-%m-%d %H:%M:%S'))\\\n",
    "  .sort_values(by = 'timestamp')"
   ]
  },
  {
   "cell_type": "code",
   "execution_count": 6,
   "metadata": {},
   "outputs": [
    {
     "data": {
      "text/html": [
       "<div>\n",
       "<style scoped>\n",
       "    .dataframe tbody tr th:only-of-type {\n",
       "        vertical-align: middle;\n",
       "    }\n",
       "\n",
       "    .dataframe tbody tr th {\n",
       "        vertical-align: top;\n",
       "    }\n",
       "\n",
       "    .dataframe thead th {\n",
       "        text-align: right;\n",
       "    }\n",
       "</style>\n",
       "<table border=\"1\" class=\"dataframe\">\n",
       "  <thead>\n",
       "    <tr style=\"text-align: right;\">\n",
       "      <th></th>\n",
       "      <th>timestamp</th>\n",
       "      <th>sensor_00</th>\n",
       "      <th>sensor_01</th>\n",
       "      <th>sensor_02</th>\n",
       "      <th>sensor_03</th>\n",
       "      <th>sensor_04</th>\n",
       "      <th>sensor_05</th>\n",
       "      <th>sensor_06</th>\n",
       "      <th>sensor_07</th>\n",
       "      <th>sensor_08</th>\n",
       "      <th>...</th>\n",
       "      <th>sensor_43</th>\n",
       "      <th>sensor_44</th>\n",
       "      <th>sensor_45</th>\n",
       "      <th>sensor_46</th>\n",
       "      <th>sensor_47</th>\n",
       "      <th>sensor_48</th>\n",
       "      <th>sensor_49</th>\n",
       "      <th>sensor_50</th>\n",
       "      <th>sensor_51</th>\n",
       "      <th>machine_status</th>\n",
       "    </tr>\n",
       "  </thead>\n",
       "  <tbody>\n",
       "    <tr>\n",
       "      <th>0</th>\n",
       "      <td>2018-04-01 00:00:00</td>\n",
       "      <td>2.465394</td>\n",
       "      <td>47.09201</td>\n",
       "      <td>53.2118</td>\n",
       "      <td>46.31076</td>\n",
       "      <td>634.375</td>\n",
       "      <td>76.45975</td>\n",
       "      <td>13.41146</td>\n",
       "      <td>16.13136</td>\n",
       "      <td>15.56713</td>\n",
       "      <td>...</td>\n",
       "      <td>41.92708</td>\n",
       "      <td>39.6412</td>\n",
       "      <td>65.68287</td>\n",
       "      <td>50.92593</td>\n",
       "      <td>38.19444</td>\n",
       "      <td>157.9861</td>\n",
       "      <td>67.70834</td>\n",
       "      <td>243.0556</td>\n",
       "      <td>201.3889</td>\n",
       "      <td>NORMAL</td>\n",
       "    </tr>\n",
       "    <tr>\n",
       "      <th>1</th>\n",
       "      <td>2018-04-01 00:01:00</td>\n",
       "      <td>2.465394</td>\n",
       "      <td>47.09201</td>\n",
       "      <td>53.2118</td>\n",
       "      <td>46.31076</td>\n",
       "      <td>634.375</td>\n",
       "      <td>76.45975</td>\n",
       "      <td>13.41146</td>\n",
       "      <td>16.13136</td>\n",
       "      <td>15.56713</td>\n",
       "      <td>...</td>\n",
       "      <td>41.92708</td>\n",
       "      <td>39.6412</td>\n",
       "      <td>65.68287</td>\n",
       "      <td>50.92593</td>\n",
       "      <td>38.19444</td>\n",
       "      <td>157.9861</td>\n",
       "      <td>67.70834</td>\n",
       "      <td>243.0556</td>\n",
       "      <td>201.3889</td>\n",
       "      <td>NORMAL</td>\n",
       "    </tr>\n",
       "  </tbody>\n",
       "</table>\n",
       "<p>2 rows × 54 columns</p>\n",
       "</div>"
      ],
      "text/plain": [
       "            timestamp  sensor_00  sensor_01  sensor_02  sensor_03  sensor_04  \\\n",
       "0 2018-04-01 00:00:00   2.465394   47.09201    53.2118   46.31076    634.375   \n",
       "1 2018-04-01 00:01:00   2.465394   47.09201    53.2118   46.31076    634.375   \n",
       "\n",
       "   sensor_05  sensor_06  sensor_07  sensor_08  ...  sensor_43  sensor_44  \\\n",
       "0   76.45975   13.41146   16.13136   15.56713  ...   41.92708    39.6412   \n",
       "1   76.45975   13.41146   16.13136   15.56713  ...   41.92708    39.6412   \n",
       "\n",
       "   sensor_45  sensor_46  sensor_47  sensor_48  sensor_49  sensor_50  \\\n",
       "0   65.68287   50.92593   38.19444   157.9861   67.70834   243.0556   \n",
       "1   65.68287   50.92593   38.19444   157.9861   67.70834   243.0556   \n",
       "\n",
       "   sensor_51  machine_status  \n",
       "0   201.3889          NORMAL  \n",
       "1   201.3889          NORMAL  \n",
       "\n",
       "[2 rows x 54 columns]"
      ]
     },
     "execution_count": 6,
     "metadata": {},
     "output_type": "execute_result"
    }
   ],
   "source": [
    "df_raw.head(2) "
   ]
  },
  {
   "cell_type": "code",
   "execution_count": 7,
   "metadata": {},
   "outputs": [],
   "source": [
    "# Assign the timestamp as index for easier plotting\n",
    "df_raw.index = df_raw['timestamp']"
   ]
  },
  {
   "cell_type": "raw",
   "metadata": {},
   "source": [
    "# Plot the data\n",
    "for chan in df_raw.columns[:-1]:\n",
    "    df_raw[[chan]].plot(figsize = (18, 4), color = 'black', marker = 'o')"
   ]
  },
  {
   "cell_type": "code",
   "execution_count": 8,
   "metadata": {},
   "outputs": [
    {
     "name": "stdout",
     "output_type": "stream",
     "text": [
      "Reported status types:  ['NORMAL' 'BROKEN' 'RECOVERING']\n"
     ]
    }
   ],
   "source": [
    "# Check on machine status values\n",
    "print('Reported status types: ', df_raw['machine_status'].unique())"
   ]
  },
  {
   "cell_type": "code",
   "execution_count": 9,
   "metadata": {},
   "outputs": [
    {
     "name": "stdout",
     "output_type": "stream",
     "text": [
      "timestamp has 0 NAs\t\t\t0.0%\n",
      "sensor_00 has 10208 NAs\t\t\t4.63%\n",
      "sensor_01 has 369 NAs\t\t\t0.17%\n",
      "sensor_02 has 19 NAs\t\t\t0.01%\n",
      "sensor_03 has 19 NAs\t\t\t0.01%\n",
      "sensor_04 has 19 NAs\t\t\t0.01%\n",
      "sensor_05 has 19 NAs\t\t\t0.01%\n",
      "sensor_06 has 4798 NAs\t\t\t2.18%\n",
      "sensor_07 has 5451 NAs\t\t\t2.47%\n",
      "sensor_08 has 5107 NAs\t\t\t2.32%\n",
      "sensor_09 has 4595 NAs\t\t\t2.09%\n",
      "sensor_10 has 19 NAs\t\t\t0.01%\n",
      "sensor_11 has 19 NAs\t\t\t0.01%\n",
      "sensor_12 has 19 NAs\t\t\t0.01%\n",
      "sensor_13 has 19 NAs\t\t\t0.01%\n",
      "sensor_14 has 21 NAs\t\t\t0.01%\n",
      "sensor_15 has 220320 NAs\t\t\t100.0%\n",
      "sensor_16 has 31 NAs\t\t\t0.01%\n",
      "sensor_17 has 46 NAs\t\t\t0.02%\n",
      "sensor_18 has 46 NAs\t\t\t0.02%\n",
      "sensor_19 has 16 NAs\t\t\t0.01%\n",
      "sensor_20 has 16 NAs\t\t\t0.01%\n",
      "sensor_21 has 16 NAs\t\t\t0.01%\n",
      "sensor_22 has 41 NAs\t\t\t0.02%\n",
      "sensor_23 has 16 NAs\t\t\t0.01%\n",
      "sensor_24 has 16 NAs\t\t\t0.01%\n",
      "sensor_25 has 36 NAs\t\t\t0.02%\n",
      "sensor_26 has 20 NAs\t\t\t0.01%\n",
      "sensor_27 has 16 NAs\t\t\t0.01%\n",
      "sensor_28 has 16 NAs\t\t\t0.01%\n",
      "sensor_29 has 72 NAs\t\t\t0.03%\n",
      "sensor_30 has 261 NAs\t\t\t0.12%\n",
      "sensor_31 has 16 NAs\t\t\t0.01%\n",
      "sensor_32 has 68 NAs\t\t\t0.03%\n",
      "sensor_33 has 16 NAs\t\t\t0.01%\n",
      "sensor_34 has 16 NAs\t\t\t0.01%\n",
      "sensor_35 has 16 NAs\t\t\t0.01%\n",
      "sensor_36 has 16 NAs\t\t\t0.01%\n",
      "sensor_37 has 16 NAs\t\t\t0.01%\n",
      "sensor_38 has 27 NAs\t\t\t0.01%\n",
      "sensor_39 has 27 NAs\t\t\t0.01%\n",
      "sensor_40 has 27 NAs\t\t\t0.01%\n",
      "sensor_41 has 27 NAs\t\t\t0.01%\n",
      "sensor_42 has 27 NAs\t\t\t0.01%\n",
      "sensor_43 has 27 NAs\t\t\t0.01%\n",
      "sensor_44 has 27 NAs\t\t\t0.01%\n",
      "sensor_45 has 27 NAs\t\t\t0.01%\n",
      "sensor_46 has 27 NAs\t\t\t0.01%\n",
      "sensor_47 has 27 NAs\t\t\t0.01%\n",
      "sensor_48 has 27 NAs\t\t\t0.01%\n",
      "sensor_49 has 27 NAs\t\t\t0.01%\n",
      "sensor_50 has 77017 NAs\t\t\t34.96%\n",
      "sensor_51 has 15383 NAs\t\t\t6.98%\n",
      "machine_status has 0 NAs\t\t\t0.0%\n"
     ]
    }
   ],
   "source": [
    "# Check raw data\n",
    "pdm.check_for_nas(df_raw)"
   ]
  },
  {
   "cell_type": "markdown",
   "metadata": {},
   "source": [
    "sensor_15, 50 and 51 contain a large number of NAs, let's drop for initial assessment."
   ]
  },
  {
   "cell_type": "code",
   "execution_count": 10,
   "metadata": {},
   "outputs": [],
   "source": [
    "# Drop columns with high degress of missingness\n",
    "df_set = df_raw.drop(['sensor_15', 'sensor_50', 'sensor_51'], axis = 1)\n",
    "\n",
    "# Replace NAs in remaining data by using lasf value fill forward method\n",
    "df_set = df_set.fillna(method = 'ffill')"
   ]
  },
  {
   "cell_type": "code",
   "execution_count": 11,
   "metadata": {},
   "outputs": [
    {
     "name": "stdout",
     "output_type": "stream",
     "text": [
      "timestamp has 0 NAs\t\t\t0.0%\n",
      "sensor_00 has 0 NAs\t\t\t0.0%\n",
      "sensor_01 has 0 NAs\t\t\t0.0%\n",
      "sensor_02 has 0 NAs\t\t\t0.0%\n",
      "sensor_03 has 0 NAs\t\t\t0.0%\n",
      "sensor_04 has 0 NAs\t\t\t0.0%\n",
      "sensor_05 has 0 NAs\t\t\t0.0%\n",
      "sensor_06 has 0 NAs\t\t\t0.0%\n",
      "sensor_07 has 0 NAs\t\t\t0.0%\n",
      "sensor_08 has 0 NAs\t\t\t0.0%\n",
      "sensor_09 has 0 NAs\t\t\t0.0%\n",
      "sensor_10 has 0 NAs\t\t\t0.0%\n",
      "sensor_11 has 0 NAs\t\t\t0.0%\n",
      "sensor_12 has 0 NAs\t\t\t0.0%\n",
      "sensor_13 has 0 NAs\t\t\t0.0%\n",
      "sensor_14 has 0 NAs\t\t\t0.0%\n",
      "sensor_16 has 0 NAs\t\t\t0.0%\n",
      "sensor_17 has 0 NAs\t\t\t0.0%\n",
      "sensor_18 has 0 NAs\t\t\t0.0%\n",
      "sensor_19 has 0 NAs\t\t\t0.0%\n",
      "sensor_20 has 0 NAs\t\t\t0.0%\n",
      "sensor_21 has 0 NAs\t\t\t0.0%\n",
      "sensor_22 has 0 NAs\t\t\t0.0%\n",
      "sensor_23 has 0 NAs\t\t\t0.0%\n",
      "sensor_24 has 0 NAs\t\t\t0.0%\n",
      "sensor_25 has 0 NAs\t\t\t0.0%\n",
      "sensor_26 has 0 NAs\t\t\t0.0%\n",
      "sensor_27 has 0 NAs\t\t\t0.0%\n",
      "sensor_28 has 0 NAs\t\t\t0.0%\n",
      "sensor_29 has 0 NAs\t\t\t0.0%\n",
      "sensor_30 has 0 NAs\t\t\t0.0%\n",
      "sensor_31 has 0 NAs\t\t\t0.0%\n",
      "sensor_32 has 0 NAs\t\t\t0.0%\n",
      "sensor_33 has 0 NAs\t\t\t0.0%\n",
      "sensor_34 has 0 NAs\t\t\t0.0%\n",
      "sensor_35 has 0 NAs\t\t\t0.0%\n",
      "sensor_36 has 0 NAs\t\t\t0.0%\n",
      "sensor_37 has 0 NAs\t\t\t0.0%\n",
      "sensor_38 has 0 NAs\t\t\t0.0%\n",
      "sensor_39 has 0 NAs\t\t\t0.0%\n",
      "sensor_40 has 0 NAs\t\t\t0.0%\n",
      "sensor_41 has 0 NAs\t\t\t0.0%\n",
      "sensor_42 has 0 NAs\t\t\t0.0%\n",
      "sensor_43 has 0 NAs\t\t\t0.0%\n",
      "sensor_44 has 0 NAs\t\t\t0.0%\n",
      "sensor_45 has 0 NAs\t\t\t0.0%\n",
      "sensor_46 has 0 NAs\t\t\t0.0%\n",
      "sensor_47 has 0 NAs\t\t\t0.0%\n",
      "sensor_48 has 0 NAs\t\t\t0.0%\n",
      "sensor_49 has 0 NAs\t\t\t0.0%\n",
      "machine_status has 0 NAs\t\t\t0.0%\n"
     ]
    }
   ],
   "source": [
    "# Check for NAs again (to verify fill NA has worked)\n",
    "pdm.check_for_nas(df_set)"
   ]
  },
  {
   "cell_type": "raw",
   "metadata": {},
   "source": [
    "# Plot selected data for closer scrutiny\n",
    "for chan in df_set.columns[10:-1]:\n",
    "    df_set[[chan]].plot(figsize = (18, 4), color = 'black', marker = 'o')"
   ]
  },
  {
   "cell_type": "code",
   "execution_count": 12,
   "metadata": {},
   "outputs": [],
   "source": [
    "# Apply some cleaning to df_set based on inspection of the timetrace signals\n",
    "# S1 displays regular spikes without transition points, clamp these (replace with median)\n",
    "# Any points less than 28,replace with median\n",
    "s1_med = df_set['sensor_01'].median()\n",
    "df_set['sensor_01'] = df_set['sensor_01']\\\n",
    "  .apply(lambda x: s1_med if x in ['nan'] else pdm.clampit(x, cl_lim = 28, cl_val = s1_med, cl_type = 'low'))\n",
    "\n",
    "s6_med = df_set['sensor_06'].median()\n",
    "df_set['sensor_06'] = df_set['sensor_06']\\\n",
    "  .apply(lambda x: s6_med if x in ['nan'] else pdm.clampit(x, cl_lim = 6, cl_val = s6_med, cl_type = 'low'))\\\n",
    "  .apply(lambda x: s6_med if x in ['nan'] else pdm.clampit(x, cl_lim = 25, cl_val = s6_med, cl_type = 'high'))\n",
    "\n",
    "# S9 similarly displays some regular spikes that we will assume are spurious\n",
    "# Any points less than 6 or greater than 21,replace with median\n",
    "s9_med = df_set['sensor_09'].median()\n",
    "df_set['sensor_09'] = df_set['sensor_09']\\\n",
    "  .apply(lambda x: s1_med if x in ['nan'] else pdm.clampit(x, cl_lim = 6, cl_val = s9_med, cl_type = 'low'))\\\n",
    "  .apply(lambda x: s1_med if x in ['nan'] else pdm.clampit(x, cl_lim = 21, cl_val = s9_med, cl_type = 'high'))"
   ]
  },
  {
   "cell_type": "raw",
   "metadata": {},
   "source": [
    "# Check the results of cleaning\n",
    "cleaned_sensors = ['sensor_01', 'sensor_09']\n",
    "for sen in cleaned_sensors:\n",
    "    df_set[[sen]].plot(figsize = (18, 4), color = 'black', marker = 'o')"
   ]
  },
  {
   "cell_type": "code",
   "execution_count": 13,
   "metadata": {},
   "outputs": [],
   "source": [
    "include_cols = [\n",
    "    'timestamp', \n",
    "    'sensor_00',\n",
    "    'sensor_01',\n",
    "    'sensor_02',\n",
    "    'sensor_03',\n",
    "    'sensor_04',\n",
    "    'sensor_05',\n",
    "    'sensor_06',\n",
    "    'machine_status'\n",
    "]"
   ]
  },
  {
   "cell_type": "code",
   "execution_count": 14,
   "metadata": {},
   "outputs": [],
   "source": [
    "# Subset data tagged as 'Normal' operating \n",
    "df_norm = df_set.loc[df_set['machine_status'] == 'NORMAL', include_cols]  \n",
    "df_norm['timestamp'] = pd.to_datetime(df_norm.index, format = '%Y-%m-%d %H:%M:%S')\n",
    "\n",
    "# Subset data tagged as 'Normal' operating \n",
    "df_reco = df_set.loc[df_set['machine_status'] == 'RECOVERING', include_cols] \n",
    "df_reco['timestamp'] = pd.to_datetime(df_reco.index, format = '%Y-%m-%d %H:%M:%S')\n",
    "\n",
    "# Subset data tagged as 'Normal' operating \n",
    "df_brok = df_set.loc[df_set['machine_status'] == 'BROKEN', include_cols] \n",
    "df_brok['timestamp'] = pd.to_datetime(df_brok.index, format = '%Y-%m-%d %H:%M:%S')"
   ]
  },
  {
   "cell_type": "code",
   "execution_count": 15,
   "metadata": {},
   "outputs": [
    {
     "data": {
      "image/png": "[encoded data removed]",
      "text/plain": [
       "<Figure size 1296x288 with 1 Axes>"
      ]
     },
     "metadata": {
      "needs_background": "light"
     },
     "output_type": "display_data"
    }
   ],
   "source": [
    "# Visualize machine status over time for the data using sensor04 as reference\n",
    "fig, ax = plt.subplots(figsize = (18, 4))\n",
    "ax.plot(df_set['timestamp'], df_set['sensor_04'], color = 'grey', marker = 'o', zorder = 1)\n",
    "ax.scatter(df_norm['timestamp'], df_norm['sensor_04'], color ='green', marker = 'o', zorder = 2, s = 1)\n",
    "ax.scatter(df_reco['timestamp'], df_reco['sensor_04'], color ='orange', marker = 'x', zorder = 3)\n",
    "ax.scatter(df_brok['timestamp'], df_brok['sensor_04'], color ='red', marker = 'X', zorder = 3, s = 250)\n",
    "plt.show()"
   ]
  },
  {
   "cell_type": "markdown",
   "metadata": {},
   "source": [
    "Time series shows 7x recorded failures with recovery periods.  "
   ]
  },
  {
   "cell_type": "markdown",
   "metadata": {},
   "source": [
    "### Data Scaling"
   ]
  },
  {
   "cell_type": "code",
   "execution_count": 16,
   "metadata": {},
   "outputs": [],
   "source": [
    "from sklearn import preprocessing\n",
    "from sklearn.decomposition import PCA\n",
    "from matplotlib import gridspec\n",
    "from matplotlib.pyplot import figure\n",
    "from itertools import groupby"
   ]
  },
  {
   "cell_type": "raw",
   "metadata": {},
   "source": [
    "# Test dataframe for remove_segement function\n",
    "df_set = pd.DataFrame({\n",
    "  'machine_status': ['NORMAL', 'NORMAL', 'RECOVERING', 'BROKEN', 'NORMAL', 'NORMAL', 'NORMAL', 'BROKEN', 'BROKEN'],\n",
    "  'value': [1, 1, 2, 3, 1, 1, 1, 2, 3]  \n",
    "})\n",
    "df_set['id'] = df_set.index\n",
    "df_set"
   ]
  },
  {
   "cell_type": "code",
   "execution_count": 17,
   "metadata": {},
   "outputs": [
    {
     "data": {
      "text/html": [
       "<div>\n",
       "<style scoped>\n",
       "    .dataframe tbody tr th:only-of-type {\n",
       "        vertical-align: middle;\n",
       "    }\n",
       "\n",
       "    .dataframe tbody tr th {\n",
       "        vertical-align: top;\n",
       "    }\n",
       "\n",
       "    .dataframe thead th {\n",
       "        text-align: right;\n",
       "    }\n",
       "</style>\n",
       "<table border=\"1\" class=\"dataframe\">\n",
       "  <thead>\n",
       "    <tr style=\"text-align: right;\">\n",
       "      <th></th>\n",
       "      <th>sensor_00</th>\n",
       "      <th>sensor_01</th>\n",
       "      <th>sensor_02</th>\n",
       "      <th>sensor_03</th>\n",
       "      <th>sensor_04</th>\n",
       "      <th>sensor_05</th>\n",
       "      <th>sensor_06</th>\n",
       "      <th>sensor_07</th>\n",
       "      <th>sensor_08</th>\n",
       "      <th>sensor_09</th>\n",
       "      <th>...</th>\n",
       "      <th>sensor_40</th>\n",
       "      <th>sensor_41</th>\n",
       "      <th>sensor_42</th>\n",
       "      <th>sensor_43</th>\n",
       "      <th>sensor_44</th>\n",
       "      <th>sensor_45</th>\n",
       "      <th>sensor_46</th>\n",
       "      <th>sensor_47</th>\n",
       "      <th>sensor_48</th>\n",
       "      <th>sensor_49</th>\n",
       "    </tr>\n",
       "  </thead>\n",
       "  <tbody>\n",
       "    <tr>\n",
       "      <th>count</th>\n",
       "      <td>2.203200e+05</td>\n",
       "      <td>2.203200e+05</td>\n",
       "      <td>2.203200e+05</td>\n",
       "      <td>2.203200e+05</td>\n",
       "      <td>2.203200e+05</td>\n",
       "      <td>2.203200e+05</td>\n",
       "      <td>2.203200e+05</td>\n",
       "      <td>2.203200e+05</td>\n",
       "      <td>2.203200e+05</td>\n",
       "      <td>2.203200e+05</td>\n",
       "      <td>...</td>\n",
       "      <td>2.203200e+05</td>\n",
       "      <td>2.203200e+05</td>\n",
       "      <td>2.203200e+05</td>\n",
       "      <td>2.203200e+05</td>\n",
       "      <td>2.203200e+05</td>\n",
       "      <td>2.203200e+05</td>\n",
       "      <td>2.203200e+05</td>\n",
       "      <td>2.203200e+05</td>\n",
       "      <td>2.203200e+05</td>\n",
       "      <td>2.203200e+05</td>\n",
       "    </tr>\n",
       "    <tr>\n",
       "      <th>mean</th>\n",
       "      <td>7.430512e-17</td>\n",
       "      <td>-4.231264e-16</td>\n",
       "      <td>4.551189e-16</td>\n",
       "      <td>5.263280e-15</td>\n",
       "      <td>-8.091002e-16</td>\n",
       "      <td>-1.562214e-16</td>\n",
       "      <td>5.374737e-15</td>\n",
       "      <td>4.107422e-16</td>\n",
       "      <td>-2.146592e-16</td>\n",
       "      <td>1.444822e-17</td>\n",
       "      <td>...</td>\n",
       "      <td>1.032016e-16</td>\n",
       "      <td>1.139345e-15</td>\n",
       "      <td>2.745161e-16</td>\n",
       "      <td>-1.702826e-16</td>\n",
       "      <td>-5.242639e-16</td>\n",
       "      <td>-2.518118e-16</td>\n",
       "      <td>1.126961e-15</td>\n",
       "      <td>-9.631286e-16</td>\n",
       "      <td>-2.146592e-16</td>\n",
       "      <td>2.229154e-16</td>\n",
       "    </tr>\n",
       "    <tr>\n",
       "      <th>std</th>\n",
       "      <td>1.000002e+00</td>\n",
       "      <td>1.000002e+00</td>\n",
       "      <td>1.000002e+00</td>\n",
       "      <td>1.000002e+00</td>\n",
       "      <td>1.000002e+00</td>\n",
       "      <td>1.000002e+00</td>\n",
       "      <td>1.000002e+00</td>\n",
       "      <td>1.000002e+00</td>\n",
       "      <td>1.000002e+00</td>\n",
       "      <td>1.000002e+00</td>\n",
       "      <td>...</td>\n",
       "      <td>1.000002e+00</td>\n",
       "      <td>1.000002e+00</td>\n",
       "      <td>1.000002e+00</td>\n",
       "      <td>1.000002e+00</td>\n",
       "      <td>1.000002e+00</td>\n",
       "      <td>1.000002e+00</td>\n",
       "      <td>1.000002e+00</td>\n",
       "      <td>1.000002e+00</td>\n",
       "      <td>1.000002e+00</td>\n",
       "      <td>1.000002e+00</td>\n",
       "    </tr>\n",
       "    <tr>\n",
       "      <th>min</th>\n",
       "      <td>-3.896670e+00</td>\n",
       "      <td>-4.670490e+00</td>\n",
       "      <td>-4.828443e+00</td>\n",
       "      <td>-5.006965e+00</td>\n",
       "      <td>-4.081218e+00</td>\n",
       "      <td>-4.242232e+00</td>\n",
       "      <td>-7.581048e+00</td>\n",
       "      <td>-4.915887e+00</td>\n",
       "      <td>-5.019891e+00</td>\n",
       "      <td>-1.244306e+01</td>\n",
       "      <td>...</td>\n",
       "      <td>-2.124693e+00</td>\n",
       "      <td>-1.839810e+00</td>\n",
       "      <td>-1.298159e+00</td>\n",
       "      <td>-1.756631e+00</td>\n",
       "      <td>-1.460291e+00</td>\n",
       "      <td>-1.305863e+00</td>\n",
       "      <td>-1.386582e+00</td>\n",
       "      <td>-1.641579e+00</td>\n",
       "      <td>-1.514471e+00</td>\n",
       "      <td>-1.593183e+00</td>\n",
       "    </tr>\n",
       "    <tr>\n",
       "      <th>25%</th>\n",
       "      <td>2.357268e-01</td>\n",
       "      <td>-3.906342e-01</td>\n",
       "      <td>-1.299246e-01</td>\n",
       "      <td>-3.777625e-01</td>\n",
       "      <td>2.496240e-01</td>\n",
       "      <td>-1.975963e-01</td>\n",
       "      <td>-3.850899e-01</td>\n",
       "      <td>1.136053e-01</td>\n",
       "      <td>9.298431e-02</td>\n",
       "      <td>1.900798e-02</td>\n",
       "      <td>...</td>\n",
       "      <td>-5.161892e-01</td>\n",
       "      <td>-3.561091e-01</td>\n",
       "      <td>-2.573994e-01</td>\n",
       "      <td>-3.889860e-01</td>\n",
       "      <td>-5.104364e-01</td>\n",
       "      <td>-4.944024e-01</td>\n",
       "      <td>-4.800761e-01</td>\n",
       "      <td>-5.054490e-01</td>\n",
       "      <td>-8.143446e-01</td>\n",
       "      <td>-4.898089e-01</td>\n",
       "    </tr>\n",
       "    <tr>\n",
       "      <th>50%</th>\n",
       "      <td>2.979070e-01</td>\n",
       "      <td>1.624558e-01</td>\n",
       "      <td>2.132920e-01</td>\n",
       "      <td>1.964022e-01</td>\n",
       "      <td>2.914071e-01</td>\n",
       "      <td>1.260943e-01</td>\n",
       "      <td>-1.452237e-01</td>\n",
       "      <td>2.122668e-01</td>\n",
       "      <td>1.957313e-01</td>\n",
       "      <td>5.908560e-02</td>\n",
       "      <td>...</td>\n",
       "      <td>-1.140632e-01</td>\n",
       "      <td>-5.936864e-02</td>\n",
       "      <td>-2.893998e-02</td>\n",
       "      <td>-8.244469e-02</td>\n",
       "      <td>-1.854859e-01</td>\n",
       "      <td>-2.239150e-01</td>\n",
       "      <td>-2.025741e-01</td>\n",
       "      <td>-2.006337e-01</td>\n",
       "      <td>-1.564374e-01</td>\n",
       "      <td>-2.328587e-01</td>\n",
       "    </tr>\n",
       "    <tr>\n",
       "      <th>75%</th>\n",
       "      <td>3.735289e-01</td>\n",
       "      <td>5.706864e-01</td>\n",
       "      <td>5.210029e-01</td>\n",
       "      <td>6.449691e-01</td>\n",
       "      <td>3.259583e-01</td>\n",
       "      <td>4.344776e-01</td>\n",
       "      <td>7.436908e-01</td>\n",
       "      <td>2.948690e-01</td>\n",
       "      <td>2.789075e-01</td>\n",
       "      <td>1.091619e-01</td>\n",
       "      <td>...</td>\n",
       "      <td>4.221046e-01</td>\n",
       "      <td>3.033131e-01</td>\n",
       "      <td>1.487504e-01</td>\n",
       "      <td>2.476761e-01</td>\n",
       "      <td>2.144531e-01</td>\n",
       "      <td>1.367344e-01</td>\n",
       "      <td>2.044285e-01</td>\n",
       "      <td>2.150238e-01</td>\n",
       "      <td>6.984907e-01</td>\n",
       "      <td>1.903533e-01</td>\n",
       "    </tr>\n",
       "    <tr>\n",
       "      <th>max</th>\n",
       "      <td>4.575552e-01</td>\n",
       "      <td>2.769876e+00</td>\n",
       "      <td>1.408636e+00</td>\n",
       "      <td>1.847128e+00</td>\n",
       "      <td>1.453300e+00</td>\n",
       "      <td>1.537773e+00</td>\n",
       "      <td>8.264178e+00</td>\n",
       "      <td>2.568695e+00</td>\n",
       "      <td>3.204744e+00</td>\n",
       "      <td>8.223537e+00</td>\n",
       "      <td>...</td>\n",
       "      <td>2.077212e+01</td>\n",
       "      <td>4.873790e+01</td>\n",
       "      <td>3.302152e+01</td>\n",
       "      <td>3.302398e+01</td>\n",
       "      <td>8.270186e+01</td>\n",
       "      <td>2.159537e+01</td>\n",
       "      <td>2.061006e+01</td>\n",
       "      <td>2.482193e+01</td>\n",
       "      <td>4.994241e+00</td>\n",
       "      <td>2.127538e+01</td>\n",
       "    </tr>\n",
       "  </tbody>\n",
       "</table>\n",
       "<p>8 rows × 49 columns</p>\n",
       "</div>"
      ],
      "text/plain": [
       "          sensor_00     sensor_01     sensor_02     sensor_03     sensor_04  \\\n",
       "count  2.203200e+05  2.203200e+05  2.203200e+05  2.203200e+05  2.203200e+05   \n",
       "mean   7.430512e-17 -4.231264e-16  4.551189e-16  5.263280e-15 -8.091002e-16   \n",
       "std    1.000002e+00  1.000002e+00  1.000002e+00  1.000002e+00  1.000002e+00   \n",
       "min   -3.896670e+00 -4.670490e+00 -4.828443e+00 -5.006965e+00 -4.081218e+00   \n",
       "25%    2.357268e-01 -3.906342e-01 -1.299246e-01 -3.777625e-01  2.496240e-01   \n",
       "50%    2.979070e-01  1.624558e-01  2.132920e-01  1.964022e-01  2.914071e-01   \n",
       "75%    3.735289e-01  5.706864e-01  5.210029e-01  6.449691e-01  3.259583e-01   \n",
       "max    4.575552e-01  2.769876e+00  1.408636e+00  1.847128e+00  1.453300e+00   \n",
       "\n",
       "          sensor_05     sensor_06     sensor_07     sensor_08     sensor_09  \\\n",
       "count  2.203200e+05  2.203200e+05  2.203200e+05  2.203200e+05  2.203200e+05   \n",
       "mean  -1.562214e-16  5.374737e-15  4.107422e-16 -2.146592e-16  1.444822e-17   \n",
       "std    1.000002e+00  1.000002e+00  1.000002e+00  1.000002e+00  1.000002e+00   \n",
       "min   -4.242232e+00 -7.581048e+00 -4.915887e+00 -5.019891e+00 -1.244306e+01   \n",
       "25%   -1.975963e-01 -3.850899e-01  1.136053e-01  9.298431e-02  1.900798e-02   \n",
       "50%    1.260943e-01 -1.452237e-01  2.122668e-01  1.957313e-01  5.908560e-02   \n",
       "75%    4.344776e-01  7.436908e-01  2.948690e-01  2.789075e-01  1.091619e-01   \n",
       "max    1.537773e+00  8.264178e+00  2.568695e+00  3.204744e+00  8.223537e+00   \n",
       "\n",
       "       ...     sensor_40     sensor_41     sensor_42     sensor_43  \\\n",
       "count  ...  2.203200e+05  2.203200e+05  2.203200e+05  2.203200e+05   \n",
       "mean   ...  1.032016e-16  1.139345e-15  2.745161e-16 -1.702826e-16   \n",
       "std    ...  1.000002e+00  1.000002e+00  1.000002e+00  1.000002e+00   \n",
       "min    ... -2.124693e+00 -1.839810e+00 -1.298159e+00 -1.756631e+00   \n",
       "25%    ... -5.161892e-01 -3.561091e-01 -2.573994e-01 -3.889860e-01   \n",
       "50%    ... -1.140632e-01 -5.936864e-02 -2.893998e-02 -8.244469e-02   \n",
       "75%    ...  4.221046e-01  3.033131e-01  1.487504e-01  2.476761e-01   \n",
       "max    ...  2.077212e+01  4.873790e+01  3.302152e+01  3.302398e+01   \n",
       "\n",
       "          sensor_44     sensor_45     sensor_46     sensor_47     sensor_48  \\\n",
       "count  2.203200e+05  2.203200e+05  2.203200e+05  2.203200e+05  2.203200e+05   \n",
       "mean  -5.242639e-16 -2.518118e-16  1.126961e-15 -9.631286e-16 -2.146592e-16   \n",
       "std    1.000002e+00  1.000002e+00  1.000002e+00  1.000002e+00  1.000002e+00   \n",
       "min   -1.460291e+00 -1.305863e+00 -1.386582e+00 -1.641579e+00 -1.514471e+00   \n",
       "25%   -5.104364e-01 -4.944024e-01 -4.800761e-01 -5.054490e-01 -8.143446e-01   \n",
       "50%   -1.854859e-01 -2.239150e-01 -2.025741e-01 -2.006337e-01 -1.564374e-01   \n",
       "75%    2.144531e-01  1.367344e-01  2.044285e-01  2.150238e-01  6.984907e-01   \n",
       "max    8.270186e+01  2.159537e+01  2.061006e+01  2.482193e+01  4.994241e+00   \n",
       "\n",
       "          sensor_49  \n",
       "count  2.203200e+05  \n",
       "mean   2.229154e-16  \n",
       "std    1.000002e+00  \n",
       "min   -1.593183e+00  \n",
       "25%   -4.898089e-01  \n",
       "50%   -2.328587e-01  \n",
       "75%    1.903533e-01  \n",
       "max    2.127538e+01  \n",
       "\n",
       "[8 rows x 49 columns]"
      ]
     },
     "execution_count": 17,
     "metadata": {},
     "output_type": "execute_result"
    }
   ],
   "source": [
    "# Scale the data (between 0 and 1)\n",
    "df_num = df_set.drop(['timestamp', 'machine_status'], axis = 1)\n",
    "#scaler = preprocessing.MinMaxScaler()\n",
    "scaler = preprocessing.StandardScaler()\n",
    "df_set_scaled = pd.DataFrame(scaler.fit_transform(df_num), columns = df_num.columns, index = df_num.index)\n",
    "df_set_scaled['timestamp'] = df_set['timestamp']\n",
    "df_set_scaled['machine_status'] = df_set['machine_status']\n",
    "df_set_scaled.describe()"
   ]
  },
  {
   "cell_type": "code",
   "execution_count": 18,
   "metadata": {},
   "outputs": [],
   "source": [
    "# Remove periods when pump was broken or covering + transition window\n",
    "trans_win = 1*24*60\n",
    "\n",
    "# Create map to reduce categories to two\n",
    "# We want to remove 'recovering' so combine it with 'broken'\n",
    "condition_map = {\n",
    "    'RECOVERING': 'BROKEN', \n",
    "    'NORMAL': 'NORMAL', \n",
    "    'BROKEN': 'BROKEN'\n",
    "}"
   ]
  },
  {
   "cell_type": "code",
   "execution_count": 19,
   "metadata": {},
   "outputs": [
    {
     "name": "stdout",
     "output_type": "stream",
     "text": [
      "Input segement categories:  ['NORMAL' 'BROKEN' 'RECOVERING']\n",
      "Categories after mapping:  ['NORMAL' 'BROKEN']\n",
      "Run length encoding:  [('NORMAL', 17155), ('BROKEN', 945), ('NORMAL', 6410), ('BROKEN', 3111), ('NORMAL', 41697), ('BROKEN', 1313), ('NORMAL', 7159), ('BROKEN', 606), ('NORMAL', 49644), ('BROKEN', 8391), ('NORMAL', 4700), ('BROKEN', 42), ('NORMAL', 25267), ('BROKEN', 76), ('NORMAL', 53804)]\n",
      ">\n",
      "Skipping NORMAL segment(s)...\n",
      ">\n",
      "Remove rows:  [15715, 19539]\n",
      "Removing 3825 rows...\n",
      ">\n",
      "Skipping NORMAL segment(s)...\n",
      ">\n",
      "Remove rows:  [23070, 29060]\n",
      "Removing 5991 rows...\n",
      ">\n",
      "Skipping NORMAL segment(s)...\n",
      ">\n",
      "Remove rows:  [67878, 72070]\n",
      "Removing 4193 rows...\n",
      ">\n",
      "Skipping NORMAL segment(s)...\n",
      ">\n",
      "Remove rows:  [76350, 79835]\n",
      "Removing 3486 rows...\n",
      ">\n",
      "Skipping NORMAL segment(s)...\n",
      ">\n",
      "Remove rows:  [126600, 137870]\n",
      "Removing 11271 rows...\n",
      ">\n",
      "Skipping NORMAL segment(s)...\n",
      ">\n",
      "Remove rows:  [139691, 142612]\n",
      "Removing 2922 rows...\n",
      ">\n",
      "Skipping NORMAL segment(s)...\n",
      ">\n",
      "Remove rows:  [165000, 167955]\n",
      "Removing 2956 rows...\n",
      ">\n",
      "Skipping NORMAL segment(s)...\n"
     ]
    }
   ],
   "source": [
    "# Use besploke function from pdm_functions\n",
    "df_norm, df_abnorm = pdm.remove_segements(\n",
    "    segment_vec = df_set_scaled['machine_status'],\n",
    "    mapping = condition_map,\n",
    "    dat = df_set_scaled,\n",
    "    trans_window = trans_win,\n",
    "    keep = 'NORMAL'\n",
    ")"
   ]
  },
  {
   "cell_type": "code",
   "execution_count": 20,
   "metadata": {},
   "outputs": [
    {
     "name": "stdout",
     "output_type": "stream",
     "text": [
      "Remaining category: ['NORMAL']\n",
      "Remaining columns: Index(['sensor_00', 'sensor_01', 'sensor_02', 'sensor_03', 'sensor_04',\n",
      "       'sensor_05', 'sensor_06', 'sensor_07', 'sensor_08', 'sensor_09',\n",
      "       'sensor_10', 'sensor_11', 'sensor_12', 'sensor_13', 'sensor_14',\n",
      "       'sensor_16', 'sensor_17', 'sensor_18', 'sensor_19', 'sensor_20',\n",
      "       'sensor_21', 'sensor_22', 'sensor_23', 'sensor_24', 'sensor_25',\n",
      "       'sensor_26', 'sensor_27', 'sensor_28', 'sensor_29', 'sensor_30',\n",
      "       'sensor_31', 'sensor_32', 'sensor_33', 'sensor_34', 'sensor_35',\n",
      "       'sensor_36', 'sensor_37', 'sensor_38', 'sensor_39', 'sensor_40',\n",
      "       'sensor_41', 'sensor_42', 'sensor_43', 'sensor_44', 'sensor_45',\n",
      "       'sensor_46', 'sensor_47', 'sensor_48', 'sensor_49', 'timestamp',\n",
      "       'machine_status'],\n",
      "      dtype='object')\n"
     ]
    }
   ],
   "source": [
    "# Quick check to confirm only one category 'normal' remains in the data\n",
    "print('Remaining category:', df_norm['machine_status'].unique())\n",
    "print('Remaining columns:', df_norm.columns)"
   ]
  },
  {
   "cell_type": "code",
   "execution_count": 21,
   "metadata": {},
   "outputs": [
    {
     "name": "stdout",
     "output_type": "stream",
     "text": [
      "Nrows normal: 185676 (84%)\n",
      "Nrows abnorm: 34644 (16%)\n"
     ]
    }
   ],
   "source": [
    "# Check row counts\n",
    "tot_rows = len(df_norm) + len(df_abnorm)\n",
    "print('Nrows normal: ' + str(len(df_norm)) + ' (' + str(round(100*len(df_norm)/tot_rows)) + '%)')\n",
    "print('Nrows abnorm: ' + str(len(df_abnorm)) + ' (' + str(round(100*len(df_abnorm)/tot_rows)) + '%)')"
   ]
  },
  {
   "cell_type": "raw",
   "metadata": {},
   "source": [
    "# Check the results of row removal\n",
    "df_norm = df_norm.loc[:,include_cols] \n",
    "for sen in df_norm.columns[1:-1]:\n",
    "    df_norm[[sen]].plot(figsize = (18, 4), color = 'black', marker = 'o')"
   ]
  },
  {
   "cell_type": "raw",
   "metadata": {},
   "source": [
    "# Check the results of row removal\n",
    "df_abnorm = df_abnorm.loc[:,include_cols] \n",
    "for sen in df_abnorm.columns[1:-1]:\n",
    "    df_abnorm[[sen]].plot(figsize = (18, 4), color = 'black', marker = 'o')"
   ]
  },
  {
   "cell_type": "code",
   "execution_count": 22,
   "metadata": {},
   "outputs": [],
   "source": [
    "# Create a timestamp column\n",
    "df_norm['timestamp'] = pd.to_datetime(df_norm.index, format = '%Y-%m-%d %H:%M:%S')\n",
    "df_abnorm['timestamp'] = pd.to_datetime(df_abnorm.index, format = '%Y-%m-%d %H:%M:%S')"
   ]
  },
  {
   "cell_type": "code",
   "execution_count": 23,
   "metadata": {},
   "outputs": [],
   "source": [
    "#df_abnorm['machine_status']"
   ]
  },
  {
   "cell_type": "code",
   "execution_count": 24,
   "metadata": {},
   "outputs": [
    {
     "name": "stdout",
     "output_type": "stream",
     "text": [
      "Test dataset 1 ['NORMAL']\n",
      "Test dataset 2 ['BROKEN']\n",
      "Test dataset 3 ['RECOVERING']\n"
     ]
    }
   ],
   "source": [
    "# Split abnormal now into its different categories\n",
    "df_abnorm_lead = df_abnorm.loc[df_abnorm['machine_status'] == 'NORMAL', include_cols] \n",
    "print('Test dataset 1', df_abnorm_lead['machine_status'].unique())\n",
    "df_abnorm_broke = df_abnorm.loc[df_abnorm['machine_status'] == 'BROKEN', include_cols] \n",
    "print('Test dataset 2', df_abnorm_broke['machine_status'].unique())\n",
    "df_abnorm_recover = df_abnorm.loc[df_abnorm['machine_status'] == 'RECOVERING', include_cols] \n",
    "print('Test dataset 3', df_abnorm_recover['machine_status'].unique())"
   ]
  },
  {
   "cell_type": "code",
   "execution_count": 26,
   "metadata": {},
   "outputs": [],
   "source": [
    "# Prepare data for PCA\n",
    "cut_date = pd.to_datetime('2018-08-01 00:00:00', format = '%Y-%m-%d %H:%M:%S')\n",
    "df_train = df_norm.loc[:, include_cols] \n",
    "head = df_train.loc[df_train['timestamp'] <= cut_date,:]\n",
    "tail = df_train.loc[df_train['timestamp'] > cut_date,:]\n",
    "df_train = head.drop(['machine_status', 'timestamp'], axis = 1)                      \n",
    "\n",
    "boundaries = df_abnorm_lead.loc[:, include_cols]\n",
    "df_test1 = pd.concat([boundaries, tail])\n",
    "df_test1 = df_test1.drop(['machine_status', 'timestamp'], axis = 1)  \n",
    "\n",
    "df_test2 = df_abnorm_broke.loc[:, include_cols]\n",
    "df_test2 = df_test2.drop(['machine_status', 'timestamp'], axis = 1)  \n",
    "\n",
    "df_test3 = df_abnorm_recover.loc[:, include_cols]\n",
    "df_test3 = df_test3.drop(['machine_status', 'timestamp'], axis = 1) "
   ]
  },
  {
   "cell_type": "raw",
   "metadata": {},
   "source": [
    "# Check the results of row removal\n",
    "for sen in df_train.columns:\n",
    "    df_train[[sen]].plot(figsize = (18, 4), color = 'black', marker = 'o')"
   ]
  },
  {
   "cell_type": "markdown",
   "metadata": {},
   "source": [
    "### Principle Component Analysis (PCA)"
   ]
  },
  {
   "cell_type": "code",
   "execution_count": 29,
   "metadata": {},
   "outputs": [
    {
     "name": "stdout",
     "output_type": "stream",
     "text": [
      "Explained variance: [0.418 0.244 0.151 0.115]\n"
     ]
    }
   ],
   "source": [
    "# Define the PCA model (all compoments)\n",
    "# from sklearn.decomposition import PCA, KernelPCA\n",
    "n_comps = 4 # How many dimensions you want to reduce to\n",
    "pca = PCA(n_components = n_comps, svd_solver = 'full')\n",
    "\n",
    "# Compute PCA components for the training set\n",
    "X_train_PCA = pca.fit_transform(df_train)\n",
    "X_train_PCA = pd.DataFrame(X_train_PCA)\n",
    "X_train_PCA.index = df_train.index\n",
    "\n",
    "# Project the test data onto the PCA space\n",
    "X_test1_PCA = pca.transform(df_test1)\n",
    "X_test1_PCA = pd.DataFrame(X_test1_PCA)\n",
    "X_test1_PCA.index = df_test1.index\n",
    "\n",
    "# Project the test data onto the PCA space\n",
    "X_test2_PCA = pca.transform(df_test2)\n",
    "X_test2_PCA = pd.DataFrame(X_test2_PCA)\n",
    "X_test2_PCA.index = df_test2.index\n",
    "\n",
    "# Project the test data onto the PCA space\n",
    "X_test3_PCA = pca.transform(df_test3)\n",
    "X_test3_PCA = pd.DataFrame(X_test3_PCA)\n",
    "X_test3_PCA.index = df_test3.index\n",
    "\n",
    "# Print the explained variance\n",
    "# 3 decimal places and don't use scientific notation\n",
    "np.set_printoptions(precision = 3, suppress=True) \n",
    "print('Explained variance:', pca.explained_variance_ratio_)"
   ]
  },
  {
   "cell_type": "code",
   "execution_count": 30,
   "metadata": {},
   "outputs": [
    {
     "data": {
      "image/png": "[encoded data removed]",
      "text/plain": [
       "<Figure size 864x720 with 4 Axes>"
      ]
     },
     "metadata": {
      "needs_background": "light"
     },
     "output_type": "display_data"
    }
   ],
   "source": [
    "# Plot PC1 vs PC2 for training & test sets\n",
    "fig, axes = plt.subplots(2, 2, figsize = (12, 10))\n",
    "gs = gridspec.GridSpec(2, 2, width_ratios = [1, 1])\n",
    "\n",
    "ax0 = plt.subplot(gs[0])\n",
    "ax0.scatter(X_train_PCA.loc[:, 0], X_train_PCA.loc[:, 1], color = 'green')\n",
    "ax0.set_xlabel('PC1')\n",
    "ax0.set_ylabel('PC2')\n",
    "ax0.set_xlim(-10, 10)\n",
    "ax0.set_ylim(-10, 10)\n",
    "ax0.set_title('Training Data')\n",
    "\n",
    "ax1 = plt.subplot(gs[1])\n",
    "ax1.scatter(X_test1_PCA.loc[:, 0], X_test1_PCA.loc[:, 1], color = 'grey')\n",
    "ax1.set_xlabel('PC1')\n",
    "ax1.set_ylabel('PC2')\n",
    "ax1.set_xlim(-10, 10)\n",
    "ax1.set_ylim(-10, 10)\n",
    "ax1.set_title('Edge Data')\n",
    "\n",
    "ax2 = plt.subplot(gs[2])\n",
    "ax2.scatter(X_test2_PCA.loc[:, 0], X_test2_PCA.loc[:, 1], color = 'grey')\n",
    "ax2.set_xlabel('PC1')\n",
    "ax2.set_ylabel('PC2')\n",
    "ax2.set_xlim(-10, 10)\n",
    "ax2.set_ylim(-10, 10)\n",
    "ax2.set_title('Broke Data')\n",
    "\n",
    "ax3 = plt.subplot(gs[3])\n",
    "ax3.scatter(X_test3_PCA.loc[:, 0], X_test3_PCA.loc[:, 1], color = 'grey')\n",
    "ax3.set_xlabel('PC1')\n",
    "ax3.set_ylabel('PC2')\n",
    "ax3.set_xlim(-10, 10)\n",
    "ax3.set_ylim(-10, 10)\n",
    "ax3.set_title('Recover Data')\n",
    "\n",
    "plt.show()"
   ]
  },
  {
   "cell_type": "code",
   "execution_count": 31,
   "metadata": {},
   "outputs": [
    {
     "name": "stdout",
     "output_type": "stream",
     "text": [
      "Mean distr [-5.481e-17  5.320e-17 -4.836e-17  2.338e-17]\n",
      "Minimum & maximum MD in training set: 0.12075559916581399 8.243056578257967\n",
      "Minimum & maximum MD in test set 1  : 0.1447287075904004 14.999083428098828\n",
      "Minimum & maximum MD in test set 2  : 1.217220911040266 9.897126182959088\n",
      "Minimum & maximum MD in test set 3  : 1.130985121768432 19.03405041514895\n",
      "Threshold value for flagging an anomaly is 5.59\n"
     ]
    }
   ],
   "source": [
    "# Move on to calculate Mahalanobis Distance \n",
    "# This is a multivatiate distance from centroid calculation that\n",
    "# can be useful for unsupervised anomaly detection\n",
    "data_train = np.array(X_train_PCA.values)\n",
    "data_test1 = np.array(X_test1_PCA.values)\n",
    "data_test2 = np.array(X_test2_PCA.values)\n",
    "data_test3 = np.array(X_test3_PCA.values)\n",
    "\n",
    "cov_matrix = np.cov(data_train, rowvar = False)\n",
    "inv_cov_matrix = np.linalg.inv(cov_matrix)\n",
    "\n",
    "# Mean of each column: PC1, PC2 (it should be very close to zero)\n",
    "mean_distr = data_train.mean(axis = 0) # axis=0 means that average is computed per column\n",
    "np.set_printoptions(precision = 3, suppress = False)\n",
    "print('Mean distr', mean_distr)\n",
    "\n",
    "# Mahalanobis Distance calculation\n",
    "dist_test1 = pdm.MahalanobisDist(inv_cov_matrix, mean_distr, data_test1, verbose=False)\n",
    "dist_test2 = pdm.MahalanobisDist(inv_cov_matrix, mean_distr, data_test2, verbose=False)\n",
    "dist_test3 = pdm.MahalanobisDist(inv_cov_matrix, mean_distr, data_test3, verbose=False)\n",
    "dist_train = pdm.MahalanobisDist(inv_cov_matrix, mean_distr, data_train, verbose=False)\n",
    "\n",
    "print(\"Minimum & maximum MD in training set:\", min(dist_train), max(dist_train))\n",
    "print(\"Minimum & maximum MD in test set 1  :\", min(dist_test1), max(dist_test1))\n",
    "print(\"Minimum & maximum MD in test set 2  :\", min(dist_test2), max(dist_test2))\n",
    "print(\"Minimum & maximum MD in test set 3  :\", min(dist_test3), max(dist_test3))\n",
    "\n",
    "threshold = pdm.MD_threshold(dist_train, extreme = True) # extreme = True; 2x mean of incoming data\n",
    "print(\"Threshold value for flagging an anomaly is\", \"{:.2f}\".format(threshold))"
   ]
  },
  {
   "cell_type": "code",
   "execution_count": 32,
   "metadata": {},
   "outputs": [
    {
     "data": {
      "image/png": "[encoded data removed]",
      "text/plain": [
       "<Figure size 1200x320 with 1 Axes>"
      ]
     },
     "metadata": {
      "needs_background": "light"
     },
     "output_type": "display_data"
    }
   ],
   "source": [
    "figure(figsize = (15, 4), dpi = 80)\n",
    "plt.plot(np.array(dist_test1), label = \"Test\", color = 'purple', zorder = 2)\n",
    "plt.plot(np.array(dist_train) , label = \"Training\", color = 'lightgrey', zorder = 1)\n",
    "plt.legend(loc = \"upper left\")\n",
    "plt.title(\"Mahalonobis Distance for test & train data\")\n",
    "plt.show()"
   ]
  },
  {
   "cell_type": "code",
   "execution_count": 33,
   "metadata": {},
   "outputs": [
    {
     "name": "stderr",
     "output_type": "stream",
     "text": [
      "/Users/jasonpayne/opt/anaconda3/envs/pdm/lib/python3.8/site-packages/seaborn/distributions.py:2619: FutureWarning: `distplot` is a deprecated function and will be removed in a future version. Please adapt your code to use either `displot` (a figure-level function with similar flexibility) or `histplot` (an axes-level function for histograms).\n",
      "  warnings.warn(msg, FutureWarning)\n"
     ]
    },
    {
     "data": {
      "image/png": "[encoded data removed]",
      "text/plain": [
       "<Figure size 432x288 with 1 Axes>"
      ]
     },
     "metadata": {
      "needs_background": "light"
     },
     "output_type": "display_data"
    }
   ],
   "source": [
    "import seaborn as sns\n",
    "plt.figure()\n",
    "sns.distplot(dist_train,\n",
    "             bins = 20, \n",
    "             kde = True, \n",
    "            color = 'green');\n",
    "plt.xlim([0.0, 8])\n",
    "plt.xlabel('Mahalanobis dist')\n",
    "plt.title('Mahalanobis distance distribution for the training data')\n",
    "plt.show()"
   ]
  },
  {
   "cell_type": "code",
   "execution_count": 34,
   "metadata": {},
   "outputs": [],
   "source": [
    "def prep_mahalonobis_data (dist_dat, thresh, pca_dat):\n",
    "    # Prepare test data for visualization\n",
    "    dat = pd.DataFrame()\n",
    "    dat['Mob dist'] = dist_dat\n",
    "    dat['Thresh'] = thresh\n",
    "    dat['Anomaly'] = dat['Mob dist'] > dat['Thresh']\n",
    "    dat.index = pca_dat.index\n",
    "    dat['timestamp'] = dat.index\n",
    "\n",
    "    n_outliers = dat[dat['Anomaly'] == True].shape[0]\n",
    "    print(\"There are\", n_outliers, \"anomalies in the test set out of\", dat.shape[0], \"points\")\n",
    "    print(\"Corresponding to \" + str(round(100*(n_outliers / dat.shape[0]), 2)) + '%')\n",
    "\n",
    "    return(dat)"
   ]
  },
  {
   "cell_type": "code",
   "execution_count": 35,
   "metadata": {},
   "outputs": [
    {
     "name": "stdout",
     "output_type": "stream",
     "text": [
      "There are 78 anomalies in the test set out of 141037 points\n",
      "> Corresponding to 0.06%\n",
      "There are 2855 anomalies in the test set out of 64799 points\n",
      "> Corresponding to 4.41%\n",
      "There are 2 anomalies in the test set out of 7 points\n",
      "> Corresponding to 28.57%\n",
      "There are 14345 anomalies in the test set out of 14477 points\n",
      "> Corresponding to 99.09%\n"
     ]
    }
   ],
   "source": [
    "# Prepare training data for visualization\n",
    "# If Mahalonobis distance is above threshold: Flag as anomaly\n",
    "anomaly_train = pdm.prep_mahalonobis_data(dist_train, threshold, X_train_PCA)\n",
    "anomaly1 = pdm.prep_mahalonobis_data(dist_test1, threshold, X_test1_PCA)\n",
    "anomaly2 = pdm.prep_mahalonobis_data(dist_test2, threshold, X_test2_PCA)\n",
    "anomaly3 = pdm.prep_mahalonobis_data(dist_test3, threshold, X_test3_PCA)"
   ]
  },
  {
   "cell_type": "code",
   "execution_count": 38,
   "metadata": {},
   "outputs": [
    {
     "data": {
      "image/png": "[encoded data removed]",
      "text/plain": [
       "<Figure size 1296x288 with 1 Axes>"
      ]
     },
     "metadata": {
      "needs_background": "light"
     },
     "output_type": "display_data"
    }
   ],
   "source": [
    "# Visualize Mahalonobis distance with actual anomalies vs threshold  \n",
    "fig, ax = plt.subplots(figsize = (18, 4))\n",
    "ax.plot(anomaly_train['timestamp'], anomaly_train['Mob dist'], color = 'lightgrey', marker = '.', zorder = 1, label = 'Normal')\n",
    "ax.plot(anomaly_train['timestamp'], anomaly_train['Thresh'], color = 'red', marker = None, linewidth = 3, zorder = 2, label = 'MD Threshold')\n",
    "ax.plot(anomaly1['timestamp'], anomaly1['Thresh'], color = 'red', marker = None, linewidth = 3, zorder = 2, label = 'MD Threshold')\n",
    "ax.scatter(anomaly1['timestamp'], anomaly1['Mob dist'], color = 'orange', marker = '.', zorder = 3, label = 'Boundary Zones')\n",
    "ax.scatter(anomaly2['timestamp'], anomaly2['Mob dist'], color = 'purple', marker = 'X', zorder = 5, s = 300, label = 'Reported Breakdown')\n",
    "ax.scatter(anomaly3['timestamp'], anomaly3['Mob dist'], color = 'grey', marker = '.', zorder = 4, label = 'Recovering')\n",
    "ax.set_yscale('log')\n",
    "ax.legend(loc = 'lower right')\n",
    "plt.show()"
   ]
  },
  {
   "cell_type": "markdown",
   "metadata": {},
   "source": [
    "### Robust Principle Component Analysis (R-PCA)"
   ]
  },
  {
   "cell_type": "code",
   "execution_count": 67,
   "metadata": {},
   "outputs": [
    {
     "name": "stdout",
     "output_type": "stream",
     "text": [
      "iteration: 1, error: 0.5995585349512743\n",
      "iteration: 100, error: 0.0008026618202991297\n",
      "iteration: 200, error: 0.0009262254947989899\n",
      "iteration: 300, error: 0.0036318477758975885\n",
      "iteration: 400, error: 0.0015042822219626661\n",
      "iteration: 500, error: 0.0011284689664275887\n",
      "iteration: 600, error: 0.0008912217495052971\n",
      "iteration: 700, error: 0.0007615175545690773\n",
      "iteration: 800, error: 0.0006964166337118556\n",
      "iteration: 900, error: 0.0005878292434467258\n",
      "iteration: 1000, error: 0.0005938751980744661\n"
     ]
    }
   ],
   "source": [
    "# Prepare data for Robust PCA\n",
    "cut_date = pd.to_datetime('2018-08-01 00:00:00', format = '%Y-%m-%d %H:%M:%S')\n",
    "df_train = df_norm.loc[:, include_cols] \n",
    "head = df_train.loc[df_train['timestamp'] <= cut_date,:]\n",
    "tail = df_train.loc[df_train['timestamp'] > cut_date,:]\n",
    "df_train = head.drop(['machine_status', 'timestamp'], axis = 1)                      \n",
    "\n",
    "boundaries = df_abnorm_lead.loc[:, include_cols]\n",
    "df_test1 = pd.concat([boundaries, tail])\n",
    "df_test1 = df_test1.drop(['machine_status', 'timestamp'], axis = 1)  \n",
    "\n",
    "df_test2 = df_abnorm_broke.loc[:, include_cols]\n",
    "df_test2 = df_test2.drop(['machine_status', 'timestamp'], axis = 1)  \n",
    "\n",
    "df_test3 = df_abnorm_recover.loc[:, include_cols]\n",
    "df_test3 = df_test3.drop(['machine_status', 'timestamp'], axis = 1) \n",
    "\n",
    "# Compute all PCA components for the training set\n",
    "L_train, S_train = pdm.R_pca(df_train).fit()\n",
    "X_train_PCA = pca.fit_transform(L_train)\n",
    "X_train_PCA = pd.DataFrame(X_train_PCA)\n",
    "X_train_PCA.index = df_train.index\n",
    "\n",
    "# Project the test data onto the PCA space\n",
    "#L_test1, S_test1 = pdm.R_pca(df_test1).fit() # don't do\n",
    "X_test1_PCA = pca.transform(df_test1)\n",
    "X_test1_PCA = pd.DataFrame(X_test1_PCA)\n",
    "X_test1_PCA.index = df_test1.index\n",
    "\n",
    "#L_test2, S_test2 = pdm.R_pca(df_test2).fit()\n",
    "X_test2_PCA = pca.transform(df_test2)\n",
    "X_test2_PCA = pd.DataFrame(X_test2_PCA)\n",
    "X_test2_PCA.index = df_test2.index\n",
    "\n",
    "#L_test3, S_test3 = pdm.R_pca(df_test3).fit()\n",
    "X_test3_PCA = pca.transform(df_test3)\n",
    "X_test3_PCA = pd.DataFrame(X_test3_PCA)\n",
    "X_test3_PCA.index = df_test3.index"
   ]
  },
  {
   "cell_type": "code",
   "execution_count": 60,
   "metadata": {},
   "outputs": [
    {
     "name": "stdout",
     "output_type": "stream",
     "text": [
      "Explained variance: [0.514 0.259 0.12  0.07 ]\n"
     ]
    }
   ],
   "source": [
    "# 3 decimal places and don't use scientific notation\n",
    "np.set_printoptions(precision = 3, suppress = True) \n",
    "print('Explained variance:', pca.explained_variance_ratio_)"
   ]
  },
  {
   "cell_type": "code",
   "execution_count": 61,
   "metadata": {},
   "outputs": [
    {
     "data": {
      "image/png": "[encoded data removed]",
      "text/plain": [
       "<Figure size 864x720 with 4 Axes>"
      ]
     },
     "metadata": {
      "needs_background": "light"
     },
     "output_type": "display_data"
    }
   ],
   "source": [
    "# Plot PC1 vs PC2 for training & test sets\n",
    "fig, axes = plt.subplots(2, 2, figsize = (12, 10))\n",
    "gs = gridspec.GridSpec(2, 2, width_ratios = [1, 1])\n",
    "\n",
    "ax0 = plt.subplot(gs[0])\n",
    "ax0.scatter(X_train_PCA.loc[:, 0], X_train_PCA.loc[:, 1], color = 'green')\n",
    "ax0.set_xlabel('PC1')\n",
    "ax0.set_ylabel('PC2')\n",
    "ax0.set_xlim(-10, 10)\n",
    "ax0.set_ylim(-10, 10)\n",
    "ax0.set_title('Training Data')\n",
    "\n",
    "ax1 = plt.subplot(gs[1])\n",
    "ax1.scatter(X_test1_PCA.loc[:, 0], X_test1_PCA.loc[:, 1], color = 'grey')\n",
    "ax1.set_xlabel('PC1')\n",
    "ax1.set_ylabel('PC2')\n",
    "ax1.set_xlim(-10, 10)\n",
    "ax1.set_ylim(-10, 10)\n",
    "ax1.set_title('Edge Data')\n",
    "\n",
    "ax2 = plt.subplot(gs[2])\n",
    "ax2.scatter(X_test2_PCA.loc[:, 0], X_test2_PCA.loc[:, 1], color = 'grey')\n",
    "ax2.set_xlabel('PC1')\n",
    "ax2.set_ylabel('PC2')\n",
    "ax2.set_xlim(-10, 10)\n",
    "ax2.set_ylim(-10, 10)\n",
    "ax2.set_title('Broke Data')\n",
    "\n",
    "ax3 = plt.subplot(gs[3])\n",
    "ax3.scatter(X_test3_PCA.loc[:, 0], X_test3_PCA.loc[:, 1], color = 'grey')\n",
    "ax3.set_xlabel('PC1')\n",
    "ax3.set_ylabel('PC2')\n",
    "ax3.set_xlim(-10, 10)\n",
    "ax3.set_ylim(-10, 10)\n",
    "ax3.set_title('Recover Data')\n",
    "\n",
    "plt.show()"
   ]
  },
  {
   "cell_type": "code",
   "execution_count": 62,
   "metadata": {},
   "outputs": [
    {
     "name": "stdout",
     "output_type": "stream",
     "text": [
      "Mean distr [-4.925e-16  1.170e-15  3.984e-15  6.724e-16]\n",
      "Minimum & maximum MD in training set: 0.10659921463140544 3.992950712280482\n",
      "Minimum & maximum MD in test set 1  : 0.2998976134230779 7.840371887491445\n",
      "Minimum & maximum MD in test set 2  : 1.6032127525590483 16.82145368758179\n",
      "Minimum & maximum MD in test set 3  : 1.5298085256011478 31.148562507053523\n",
      "Threshold value for flagging an anomaly is 5.81\n"
     ]
    }
   ],
   "source": [
    "# Move on to calculate Mahalanobis Distance \n",
    "# This is a multivatiate distance from centroid calculation that\n",
    "# can be useful for unsupervised anomaly detection\n",
    "data_train = np.array(X_train_PCA.values)\n",
    "data_test1 = np.array(X_test1_PCA.values)\n",
    "data_test2 = np.array(X_test2_PCA.values)\n",
    "data_test3 = np.array(X_test3_PCA.values)\n",
    "\n",
    "cov_matrix = np.cov(data_train, rowvar = False)\n",
    "inv_cov_matrix = np.linalg.inv(cov_matrix)\n",
    "\n",
    "# Mean of each column: PC1, PC2 (it should be very close to zero)\n",
    "mean_distr = data_train.mean(axis = 0) # axis=0 means that average is computed per column\n",
    "np.set_printoptions(precision = 3, suppress = False)\n",
    "print('Mean distr', mean_distr)\n",
    "\n",
    "# Mahalanobis Distance calculation\n",
    "dist_test1 = pdm.MahalanobisDist(inv_cov_matrix, mean_distr, data_test1, verbose=False)\n",
    "dist_test2 = pdm.MahalanobisDist(inv_cov_matrix, mean_distr, data_test2, verbose=False)\n",
    "dist_test3 = pdm.MahalanobisDist(inv_cov_matrix, mean_distr, data_test3, verbose=False)\n",
    "dist_train = pdm.MahalanobisDist(inv_cov_matrix, mean_distr, data_train, verbose=False)\n",
    "\n",
    "print(\"Minimum & maximum MD in training set:\", min(dist_train), max(dist_train))\n",
    "print(\"Minimum & maximum MD in test set 1  :\", min(dist_test1), max(dist_test1))\n",
    "print(\"Minimum & maximum MD in test set 2  :\", min(dist_test2), max(dist_test2))\n",
    "print(\"Minimum & maximum MD in test set 3  :\", min(dist_test3), max(dist_test3))\n",
    "\n",
    "threshold = pdm.MD_threshold(dist_train, extreme = True) # extreme = 2x else 3x\n",
    "print(\"Threshold value for flagging an anomaly is\", \"{:.2f}\".format(threshold))"
   ]
  },
  {
   "cell_type": "code",
   "execution_count": 63,
   "metadata": {},
   "outputs": [
    {
     "name": "stderr",
     "output_type": "stream",
     "text": [
      "/Users/jasonpayne/opt/anaconda3/envs/pdm/lib/python3.8/site-packages/seaborn/distributions.py:2619: FutureWarning: `distplot` is a deprecated function and will be removed in a future version. Please adapt your code to use either `displot` (a figure-level function with similar flexibility) or `histplot` (an axes-level function for histograms).\n",
      "  warnings.warn(msg, FutureWarning)\n"
     ]
    },
    {
     "data": {
      "image/png": "[encoded data removed]",
      "text/plain": [
       "<Figure size 432x288 with 1 Axes>"
      ]
     },
     "metadata": {
      "needs_background": "light"
     },
     "output_type": "display_data"
    }
   ],
   "source": [
    "import seaborn as sns\n",
    "plt.figure()\n",
    "sns.distplot(dist_train,\n",
    "             bins = 20, \n",
    "             kde= True, \n",
    "            color = 'green');\n",
    "plt.xlim([0.0, 8])\n",
    "plt.xlabel('Mahalanobis dist')\n",
    "plt.title('Mahalanobis distance distribution for the training data')\n",
    "plt.show()"
   ]
  },
  {
   "cell_type": "code",
   "execution_count": 64,
   "metadata": {},
   "outputs": [
    {
     "name": "stdout",
     "output_type": "stream",
     "text": [
      "There are 0 anomalies in the test set out of 141037 points\n",
      "Corresponding to 0.0%\n",
      "There are 1108 anomalies in the test set out of 64799 points\n",
      "Corresponding to 1.71%\n",
      "There are 3 anomalies in the test set out of 7 points\n",
      "Corresponding to 42.86%\n",
      "There are 14424 anomalies in the test set out of 14477 points\n",
      "Corresponding to 99.63%\n"
     ]
    }
   ],
   "source": [
    "# Prepare training data for visualization\n",
    "# If Mahalonobis distance is above threshold: Flag as anomaly\n",
    "anomaly_train = prep_mahalonobis_data(dist_train, threshold, X_train_PCA)\n",
    "anomaly1 = prep_mahalonobis_data(dist_test1, threshold, X_test1_PCA)\n",
    "anomaly2 = prep_mahalonobis_data(dist_test2, threshold, X_test2_PCA)\n",
    "anomaly3 = prep_mahalonobis_data(dist_test3, threshold, X_test3_PCA)"
   ]
  },
  {
   "cell_type": "code",
   "execution_count": 65,
   "metadata": {},
   "outputs": [
    {
     "data": {
      "image/png": "[encoded data removed]",
      "text/plain": [
       "<Figure size 1296x288 with 1 Axes>"
      ]
     },
     "metadata": {
      "needs_background": "light"
     },
     "output_type": "display_data"
    }
   ],
   "source": [
    "# Visualize Mahalonobis distance with actual anomalies vs threshold  \n",
    "fig, ax = plt.subplots(figsize = (18, 4))\n",
    "ax.scatter(anomaly_train['timestamp'], anomaly_train['Mob dist'], color = 'lightgrey', marker = '.', zorder = 1, label = 'Normal')\n",
    "ax.plot(anomaly_train['timestamp'], anomaly_train['Thresh'], color = 'red', marker = None, linewidth=3, zorder = 6, label = 'MD Threshold')\n",
    "ax.plot(anomaly1['timestamp'], anomaly1['Thresh'], color = 'red', marker = None, linewidth=3, zorder = 6, label = 'MD Threshold')\n",
    "ax.scatter(anomaly1['timestamp'], anomaly1['Mob dist'], color = 'orange', marker = '.', zorder = 3, label = 'Boundary Zones')\n",
    "ax.scatter(anomaly2['timestamp'], anomaly2['Mob dist'], color = 'purple', marker = 'X', zorder = 5, s = 300, label = 'Reported Breakdown')\n",
    "ax.scatter(anomaly3['timestamp'], anomaly3['Mob dist'], color = 'grey', marker = '.', zorder = 4, label = 'Recovering')\n",
    "ax.set_yscale('log')\n",
    "ax.legend(loc = 'lower right')\n",
    "plt.show() "
   ]
  },
  {
   "cell_type": "code",
   "execution_count": 66,
   "metadata": {},
   "outputs": [
    {
     "data": {
      "image/png": "[encoded data removed]",
      "text/plain": [
       "<Figure size 1296x288 with 1 Axes>"
      ]
     },
     "metadata": {
      "needs_background": "light"
     },
     "output_type": "display_data"
    },
    {
     "data": {
      "image/png": "[encoded data removed]",
      "text/plain": [
       "<Figure size 1296x288 with 1 Axes>"
      ]
     },
     "metadata": {
      "needs_background": "light"
     },
     "output_type": "display_data"
    },
    {
     "data": {
      "image/png": "[encoded data removed]",
      "text/plain": [
       "<Figure size 1296x288 with 1 Axes>"
      ]
     },
     "metadata": {
      "needs_background": "light"
     },
     "output_type": "display_data"
    },
    {
     "data": {
      "image/png": "[encoded data removed]",
      "text/plain": [
       "<Figure size 1296x288 with 1 Axes>"
      ]
     },
     "metadata": {
      "needs_background": "light"
     },
     "output_type": "display_data"
    }
   ],
   "source": [
    "\"\"\"\n",
    "Visualize Mahalonobis distance with actual anomalies vs threshold \n",
    "Zoom in on each breakdown period & examine distance in lead up to \n",
    "the reporting of the machine as 'broken'\n",
    "\"\"\" \n",
    "start_slice = [ # Start times for zoomed views\n",
    "    pd.to_datetime('2018-04-10 00:00:00', format = '%Y-%m-%d %H:%M:%S'), \n",
    "    pd.to_datetime('2018-05-17 00:00:00', format = '%Y-%m-%d %H:%M:%S'), \n",
    "    pd.to_datetime('2018-06-25 00:00:00', format = '%Y-%m-%d %H:%M:%S'),\n",
    "    pd.to_datetime('2018-07-23 00:00:00', format = '%Y-%m-%d %H:%M:%S')\n",
    "]\n",
    "ender_slice = [ # End times for zoomed views\n",
    "    pd.to_datetime('2018-04-20 00:00:00', format = '%Y-%m-%d %H:%M:%S'),\n",
    "    pd.to_datetime('2018-05-29 00:00:00', format = '%Y-%m-%d %H:%M:%S'),\n",
    "    pd.to_datetime('2018-07-11 00:00:00', format = '%Y-%m-%d %H:%M:%S'),\n",
    "    pd.to_datetime('2018-07-29 00:00:00', format = '%Y-%m-%d %H:%M:%S')\n",
    "]\n",
    "# Loop through and plot each zoomed view\n",
    "for i in range(4):\n",
    "    fig, ax = plt.subplots(figsize = (18, 4))\n",
    "    ax.scatter(anomaly_train['timestamp'], anomaly_train['Mob dist'], color = 'lightgrey', marker = '.', zorder = 1, label = 'Normal')\n",
    "    ax.plot(anomaly_train['timestamp'], anomaly_train['Thresh'], color = 'red', marker = None, linewidth=3, zorder = 2, label = 'MD Threshold')\n",
    "    ax.scatter(anomaly1['timestamp'], anomaly1['Mob dist'], color = 'orange', marker = '.', zorder = 3, label = 'Boundary Zones')\n",
    "    ax.scatter(anomaly2['timestamp'], anomaly2['Mob dist'], color = 'purple', marker = 'X', zorder = 5, s = 300, label = 'Reported Breakdown')\n",
    "    ax.scatter(anomaly3['timestamp'], anomaly3['Mob dist'], color = 'grey', marker = '.', zorder = 4, label = 'Recovering')\n",
    "    ax.set_yscale('log')\n",
    "    ax.set_xlim(start_slice[i], ender_slice[i]),\n",
    "    ax.legend(loc = 'lower right')\n",
    "    plt.show()"
   ]
  },
  {
   "cell_type": "markdown",
   "metadata": {},
   "source": [
    "### Uniform Manifold Approximation & Projection (UMAP)\n",
    "https://umap-learn.readthedocs.io/en/latest/basic_usage.html"
   ]
  },
  {
   "cell_type": "code",
   "execution_count": null,
   "metadata": {},
   "outputs": [],
   "source": [
    "import umap"
   ]
  },
  {
   "cell_type": "code",
   "execution_count": null,
   "metadata": {},
   "outputs": [],
   "source": [
    "# Prepare data for dimensional reduction\n",
    "df_train = df_norm.loc[:, include_cols]  \n",
    "df_train = df_train.drop(['machine_status', 'timestamp'], axis = 1)                      \n",
    "\n",
    "df_test1 = df_abnorm_lead.loc[:, include_cols]\n",
    "df_test1 = df_test1.drop(['machine_status', 'timestamp'], axis = 1)  \n",
    "\n",
    "df_test2 = df_abnorm_broke.loc[:, include_cols]\n",
    "df_test2 = df_test2.drop(['machine_status', 'timestamp'], axis = 1)  \n",
    "\n",
    "df_test3 = df_abnorm_recover.loc[:, include_cols]\n",
    "df_test3 = df_test3.drop(['machine_status', 'timestamp'], axis = 1)\n",
    "\n",
    "# Fit & transform training data using UMAP\n",
    "reducer = umap.UMAP(n_neighbors = 5, min_dist = 0.1) # 5, 10, 15\n",
    "X_train_UMAP = reducer.fit_transform(df_train)\n",
    "print('UMAP embeddings shape', X_train_UMAP.shape)"
   ]
  },
  {
   "cell_type": "code",
   "execution_count": null,
   "metadata": {},
   "outputs": [],
   "source": [
    "# Project test data on to the UMAP sapce\n",
    "X_test1_UMAP = reducer.transform(df_test1)\n",
    "X_test2_UMAP = reducer.transform(df_test2)\n",
    "X_test3_UMAP = reducer.transform(df_test3)"
   ]
  },
  {
   "cell_type": "code",
   "execution_count": null,
   "metadata": {},
   "outputs": [],
   "source": [
    "X_train_UMAP = pd.DataFrame(X_train_UMAP)\n",
    "X_train_UMAP.index = df_train.index\n",
    "\n",
    "X_test1_UMAP = pd.DataFrame(X_test1_UMAP)\n",
    "X_test1_UMAP.index = df_test1.index\n",
    "\n",
    "X_test2_UMAP = pd.DataFrame(X_test2_UMAP)\n",
    "X_test2_UMAP.index = df_test2.index\n",
    "\n",
    "X_test3_UMAP = pd.DataFrame(X_test3_UMAP)\n",
    "X_test3_UMAP.index = df_test3.index"
   ]
  },
  {
   "cell_type": "code",
   "execution_count": null,
   "metadata": {},
   "outputs": [],
   "source": [
    "# Plot PC1 vs PC2 for training & test sets\n",
    "fig, axes = plt.subplots(2, 2, figsize = (12, 10))\n",
    "gs = gridspec.GridSpec(2, 2, width_ratios = [1, 1])\n",
    "\n",
    "ax0 = plt.subplot(gs[0])\n",
    "ax0.scatter(X_train_UMAP.loc[:, 0], X_train_UMAP.loc[:, 1], color = 'green')\n",
    "ax0.set_xlabel('UMAP1')\n",
    "ax0.set_ylabel('UMAP2')\n",
    "ax0.set_xlim(-20, 30)\n",
    "ax0.set_ylim(-20, 30)\n",
    "ax0.set_title('Training Data')\n",
    "\n",
    "ax1 = plt.subplot(gs[1])\n",
    "ax1.scatter(X_test1_UMAP.loc[:, 0], X_test1_UMAP.loc[:, 1], color = 'grey')\n",
    "ax1.set_xlabel('UMAP1')\n",
    "ax1.set_ylabel('UMAP2')\n",
    "ax1.set_xlim(-20, 30)\n",
    "ax1.set_ylim(-20, 30)\n",
    "ax1.set_title('Edge Data')\n",
    "\n",
    "ax2 = plt.subplot(gs[2])\n",
    "ax2.scatter(X_test2_UMAP.loc[:, 0], X_test2_UMAP.loc[:, 1], color = 'grey')\n",
    "ax2.set_xlabel('UMAP1')\n",
    "ax2.set_ylabel('UMAP2')\n",
    "ax2.set_xlim(-20, 30)\n",
    "ax2.set_ylim(-20, 30)\n",
    "ax2.set_title('Broke Data')\n",
    "\n",
    "ax3 = plt.subplot(gs[3])\n",
    "ax3.scatter(X_test3_UMAP.loc[:, 0], X_test3_UMAP.loc[:, 1], color = 'grey')\n",
    "ax3.set_xlabel('UMAP1')\n",
    "ax3.set_ylabel('UMAP2')\n",
    "ax3.set_xlim(-20, 30)\n",
    "ax3.set_ylim(-20, 30)\n",
    "ax3.set_title('Recover Data')\n",
    "\n",
    "plt.show()"
   ]
  },
  {
   "cell_type": "code",
   "execution_count": null,
   "metadata": {},
   "outputs": [],
   "source": [
    "# Move on to calculate Mahalanobis Distance \n",
    "# This is a multivatiate distance from centroid calculation that\n",
    "# can be useful for unsupervised anomaly detection\n",
    "data_train = np.array(X_train_UMAP)\n",
    "data_test1 = np.array(X_test1_UMAP)\n",
    "data_test2 = np.array(X_test2_UMAP)\n",
    "data_test3 = np.array(X_test3_UMAP)\n",
    "\n",
    "cov_matrix = np.cov(data_train, rowvar = False)\n",
    "inv_cov_matrix = np.linalg.inv(cov_matrix)\n",
    "\n",
    "# Mean of each column: PC1, PC2 (it should be very close to zero)\n",
    "mean_distr = data_train.mean(axis = 0) # axis=0 means that average is computed per column\n",
    "np.set_printoptions(precision = 3, suppress = False)\n",
    "print('Mean distr', mean_distr)\n",
    "\n",
    "# Mahalanobis Distance calculation\n",
    "dist_test1 = pdm.MahalanobisDist(inv_cov_matrix, mean_distr, data_test1, verbose=False)\n",
    "dist_test2 = pdm.MahalanobisDist(inv_cov_matrix, mean_distr, data_test2, verbose=False)\n",
    "dist_test3 = pdm.MahalanobisDist(inv_cov_matrix, mean_distr, data_test3, verbose=False)\n",
    "dist_train = pdm.MahalanobisDist(inv_cov_matrix, mean_distr, data_train, verbose=False)\n",
    "\n",
    "print(\"Minimum & maximum MD in training set:\", min(dist_train), max(dist_train))\n",
    "print(\"Minimum & maximum MD in test set 1  :\", min(dist_test1), max(dist_test1))\n",
    "print(\"Minimum & maximum MD in test set 2  :\", min(dist_test2), max(dist_test2))\n",
    "print(\"Minimum & maximum MD in test set 3  :\", min(dist_test3), max(dist_test3))\n",
    "\n",
    "threshold = pdm.MD_threshold(dist_train, extreme = True) # extreme = True; 2x mean of incoming data\n",
    "print(\"Threshold value for flagging an anomaly is\", \"{:.2f}\".format(threshold))"
   ]
  },
  {
   "cell_type": "code",
   "execution_count": null,
   "metadata": {},
   "outputs": [],
   "source": [
    "import seaborn as sns\n",
    "plt.figure()\n",
    "sns.distplot(dist_train,\n",
    "             bins = 20, \n",
    "             kde= True, \n",
    "            color = 'green');\n",
    "plt.xlim([0.0, 8])\n",
    "plt.xlabel('Mahalanobis dist')\n",
    "plt.title('Mahalanobis distance distribution for the training data')\n",
    "plt.show()"
   ]
  },
  {
   "cell_type": "code",
   "execution_count": null,
   "metadata": {},
   "outputs": [],
   "source": [
    "# Prepare training data for visualization\n",
    "# If Mahalonobis distance is above threshold: Flag as anomaly\n",
    "anomaly_train = prep_mahalonobis_data(dist_train, threshold, X_train_UMAP)\n",
    "anomaly1 = prep_mahalonobis_data(dist_test1, threshold, X_test1_UMAP)\n",
    "anomaly2 = prep_mahalonobis_data(dist_test2, threshold, X_test2_UMAP)\n",
    "anomaly3 = prep_mahalonobis_data(dist_test3, threshold, X_test3_UMAP)"
   ]
  },
  {
   "cell_type": "code",
   "execution_count": null,
   "metadata": {},
   "outputs": [],
   "source": [
    "# Visualize Mahalonobis distance with actual anomalies vs threshold  \n",
    "ZOOM = False\n",
    "fig, ax = plt.subplots(figsize = (18, 4))\n",
    "ax.plot(anomaly_train['timestamp'], anomaly_train['Mob dist'], color = 'lightgrey', marker = '.', zorder = 1, label = 'Normal')\n",
    "ax.plot(anomaly_train['timestamp'], anomaly_train['Thresh'], color = 'red', marker = '.', zorder = 2, label = 'MD Threshold')\n",
    "ax.scatter(anomaly1['timestamp'], anomaly1['Mob dist'], color = 'orange', marker = '.', zorder = 3, label = 'Boundary Zones')\n",
    "ax.scatter(anomaly2['timestamp'], anomaly2['Mob dist'], color = 'purple', marker = 'X', zorder = 5, s = 300, label = 'Actual Breakdown')\n",
    "ax.scatter(anomaly3['timestamp'], anomaly3['Mob dist'], color = 'grey', marker = '.', zorder = 4, label = 'Recovering')\n",
    "ax.set_yscale('log')\n",
    "if ZOOM is True:\n",
    "    ax.set_xlim(\n",
    "        pd.to_datetime('2018-04-10 00:00:00', format = '%Y-%m-%d %H:%M:%S'), \n",
    "        pd.to_datetime('2018-04-20 00:00:00', format = '%Y-%m-%d %H:%M:%S')\n",
    "    )\n",
    "ax.legend(loc = 'lower right')\n",
    "plt.show()"
   ]
  },
  {
   "cell_type": "markdown",
   "metadata": {},
   "source": [
    "### One-class Support Vector Machine (SVM)"
   ]
  },
  {
   "cell_type": "code",
   "execution_count": null,
   "metadata": {},
   "outputs": [],
   "source": [
    "from sklearn.svm import OneClassSVM"
   ]
  },
  {
   "cell_type": "code",
   "execution_count": null,
   "metadata": {},
   "outputs": [],
   "source": [
    "# Prepare data for dimensional reduction\n",
    "df_train = df_norm.loc[:, include_cols]  \n",
    "df_train = df_train.drop(['machine_status', 'timestamp'], axis = 1)                      \n",
    "\n",
    "df_test1 = df_abnorm_lead.loc[:, include_cols]\n",
    "df_test1 = df_test1.drop(['machine_status', 'timestamp'], axis = 1)  \n",
    "\n",
    "df_test2 = df_abnorm_broke.loc[:, include_cols]\n",
    "df_test2 = df_test2.drop(['machine_status', 'timestamp'], axis = 1)  \n",
    "\n",
    "df_test3 = df_abnorm_recover.loc[:, include_cols]\n",
    "df_test3 = df_test3.drop(['machine_status', 'timestamp'], axis = 1)"
   ]
  },
  {
   "cell_type": "code",
   "execution_count": null,
   "metadata": {},
   "outputs": [],
   "source": [
    "# Train a one-class SVM \n",
    "# nu = contamination \n",
    "svm_model =  OneClassSVM(nu = 0.01) \n",
    "svm_model.fit(pd.DataFrame(df_train))"
   ]
  },
  {
   "cell_type": "raw",
   "metadata": {},
   "source": [
    "# Check the results of cleaning\n",
    "for sen in df_train.columns:\n",
    "    df_set[[sen]].plot(figsize = (18, 4), color = 'black', marker = 'o')"
   ]
  },
  {
   "cell_type": "code",
   "execution_count": null,
   "metadata": {},
   "outputs": [],
   "source": [
    "# Predict for train set (normal operating)\n",
    "preds = pd.Series(svm_model.predict(df_train))\n",
    "test = pd.DataFrame({'sensor_04':pd.Series(df_train['sensor_04'])})\n",
    "svm_out = pd.DataFrame({'timestamp':df_train.index, 'Prediction':preds})\n",
    "sensor_04 = df_train['sensor_04']\n",
    "sensor_04 = sensor_04.reset_index()\n",
    "sensor_04.drop('timestamp', axis = 1, inplace = True)\n",
    "svm_out['sensor_04'] = sensor_04\n",
    "svm_out['Prediction'] = svm_out['Prediction'].map({1: 0, -1: 1})\n",
    "svm_aly = svm_out.loc[svm_out['Prediction'] == 1, ['timestamp', 'sensor_04']] # anomaly\n",
    "print(str(len(svm_aly)) + ' out of ' + str(len(svm_out)) + ' (' + str(round(100 * (len(svm_aly) / len(svm_out)), 2)) + '%)')\n",
    "svm_aly0 = svm_aly"
   ]
  },
  {
   "cell_type": "code",
   "execution_count": null,
   "metadata": {},
   "outputs": [],
   "source": [
    "# Predict for test set 1 (boundary segments)\n",
    "preds = pd.Series(svm_model.predict(df_test1))\n",
    "test = pd.DataFrame({'sensor_04':pd.Series(df_test1['sensor_04'])})\n",
    "svm_out = pd.DataFrame({'timestamp':df_test1.index, 'Prediction':preds})\n",
    "sensor_04 = df_test1['sensor_04']\n",
    "sensor_04 = sensor_04.reset_index()\n",
    "sensor_04.drop('timestamp', axis = 1, inplace = True)\n",
    "svm_out['sensor_04'] = sensor_04\n",
    "svm_out['Prediction'] = svm_out['Prediction'].map({1: 0, -1: 1})\n",
    "svm_aly = svm_out.loc[svm_out['Prediction'] == 1, ['timestamp', 'sensor_04']] # anomaly\n",
    "print(str(len(svm_aly)) + ' out of ' + str(len(svm_out)) + ' (' + str(round(100 * (len(svm_aly) / len(svm_out)), 2)) + '%)')\n",
    "svm_aly1 = svm_aly"
   ]
  },
  {
   "cell_type": "code",
   "execution_count": null,
   "metadata": {},
   "outputs": [],
   "source": [
    "# Predict for test set 2 (breakdown points)\n",
    "preds = pd.Series(svm_model.predict(df_test2))\n",
    "test = pd.DataFrame({'sensor_04':pd.Series(df_test2['sensor_04'])})\n",
    "svm_out = pd.DataFrame({'timestamp':df_test2.index, 'Prediction':preds})\n",
    "sensor_04 = df_test2['sensor_04']\n",
    "sensor_04 = sensor_04.reset_index()\n",
    "sensor_04.drop('timestamp', axis = 1, inplace = True)\n",
    "svm_out['sensor_04'] = sensor_04\n",
    "svm_out['Prediction'] = svm_out['Prediction'].map({1: 0, -1: 1})\n",
    "svm_aly = svm_out.loc[svm_out['Prediction'] == 1, ['timestamp', 'sensor_04']] # anomaly\n",
    "print(str(len(svm_aly)) + ' out of ' + str(len(svm_out)) + ' (' + str(round(100 * (len(svm_aly) / len(svm_out)), 2)) + '%)')\n",
    "svm_aly2 = svm_aly"
   ]
  },
  {
   "cell_type": "code",
   "execution_count": null,
   "metadata": {},
   "outputs": [],
   "source": [
    "# Predict for test set 3 (recovery points)\n",
    "preds = pd.Series(svm_model.predict(df_test3))\n",
    "test = pd.DataFrame({'sensor_04':pd.Series(df_test3['sensor_04'])})\n",
    "svm_out = pd.DataFrame({'timestamp':df_test3.index, 'Prediction':preds})\n",
    "sensor_04 = df_test3['sensor_04']\n",
    "sensor_04 = sensor_04.reset_index()\n",
    "sensor_04.drop('timestamp', axis = 1, inplace = True)\n",
    "svm_out['sensor_04'] = sensor_04\n",
    "svm_out['Prediction'] = svm_out['Prediction'].map({1: 0, -1: 1})\n",
    "svm_aly = svm_out.loc[svm_out['Prediction'] == 1, ['timestamp', 'sensor_04']] # anomaly\n",
    "print(str(len(svm_aly)) + ' out of ' + str(len(svm_out)) + ' (' + str(round(100 * (len(svm_aly) / len(svm_out)), 2)) + '%)')\n",
    "svm_aly3 = svm_aly"
   ]
  },
  {
   "cell_type": "code",
   "execution_count": null,
   "metadata": {},
   "outputs": [],
   "source": [
    "lam"
   ]
  },
  {
   "cell_type": "markdown",
   "metadata": {},
   "source": [
    "### Isolation Forest"
   ]
  },
  {
   "cell_type": "markdown",
   "metadata": {},
   "source": [
    "Overview of Isolation forest steps:\n",
    "https://ieeexplore.ieee.org/abstract/document/4781136\n",
    "1. Build trees,\n",
    "2. Pass each data point through each tree,\n",
    "3. Calculate the average path that is required to isolate the point.\n",
    "4. The shorter the path, the higher the anomaly score."
   ]
  },
  {
   "cell_type": "code",
   "execution_count": null,
   "metadata": {},
   "outputs": [],
   "source": [
    "from sklearn.ensemble import IsolationForest"
   ]
  },
  {
   "cell_type": "code",
   "execution_count": null,
   "metadata": {},
   "outputs": [],
   "source": [
    "# Prepare data for dimensional reduction\n",
    "df_train = df_norm.loc[:, include_cols]  \n",
    "df_train = df_train.drop(['machine_status', 'timestamp'], axis = 1)                      \n",
    "\n",
    "df_test1 = df_abnorm_lead.loc[:, include_cols]\n",
    "df_test1 = df_test1.drop(['machine_status', 'timestamp'], axis = 1)  \n",
    "\n",
    "df_test2 = df_abnorm_broke.loc[:, include_cols]\n",
    "df_test2 = df_test2.drop(['machine_status', 'timestamp'], axis = 1)  \n",
    "\n",
    "df_test3 = df_abnorm_recover.loc[:, include_cols]\n",
    "df_test3 = df_test3.drop(['machine_status', 'timestamp'], axis = 1)"
   ]
  },
  {
   "cell_type": "code",
   "execution_count": null,
   "metadata": {},
   "outputs": [],
   "source": [
    "# Train isolation forest \n",
    "isfo_model =  IsolationForest(contamination = 0.01)\n",
    "isfo_model.fit(df_train)"
   ]
  },
  {
   "cell_type": "code",
   "execution_count": null,
   "metadata": {},
   "outputs": [],
   "source": [
    "# Predict for train set (normal operating)\n",
    "preds = pd.Series(isfo_model.predict(df_train))\n",
    "test = pd.DataFrame({'sensor_04':pd.Series(df_train['sensor_04'])})\n",
    "isfo_out = pd.DataFrame({'timestamp':df_train.index, 'Prediction':preds})\n",
    "sensor_04 = df_train['sensor_04']\n",
    "sensor_04 = sensor_04.reset_index()\n",
    "sensor_04.drop('timestamp', axis = 1, inplace = True)\n",
    "isfo_out['sensor_04'] = sensor_04\n",
    "isfo_out['Prediction'] = isfo_out['Prediction'].map({1: 0, -1: 1})\n",
    "isfo_aly = isfo_out.loc[isfo_out['Prediction'] == 1, ['timestamp', 'sensor_04']] # anomaly\n",
    "print(str(len(isfo_aly)) + ' out of ' + str(len(isfo_out)) + ' (' + str(round(100 * (len(isfo_aly) / len(isfo_out)), 2)) + '%)')\n",
    "isfo_aly0 = isfo_aly"
   ]
  },
  {
   "cell_type": "code",
   "execution_count": null,
   "metadata": {},
   "outputs": [],
   "source": [
    "# Predict for test set 1 ()\n",
    "preds = pd.Series(isfo_model.predict(df_test1))\n",
    "test = pd.DataFrame({'sensor_04':pd.Series(df_test1['sensor_04'])})\n",
    "isfo_out = pd.DataFrame({'timestamp':df_test1.index, 'Prediction':preds})\n",
    "sensor_04 = df_test1['sensor_04']\n",
    "sensor_04 = sensor_04.reset_index()\n",
    "sensor_04.drop('timestamp', axis = 1, inplace = True)\n",
    "isfo_out['sensor_04'] = sensor_04\n",
    "isfo_out['Prediction'] = isfo_out['Prediction'].map({1: 0, -1: 1})\n",
    "isfo_aly = isfo_out.loc[isfo_out['Prediction'] == 1, ['timestamp', 'sensor_04']] # anomaly\n",
    "print(str(len(isfo_aly)) + ' out of ' + str(len(isfo_out)) + ' (' + str(round(100 * (len(isfo_aly) / len(isfo_out)), 2)) + '%)')\n",
    "isfo_aly1 = isfo_aly"
   ]
  },
  {
   "cell_type": "code",
   "execution_count": null,
   "metadata": {},
   "outputs": [],
   "source": [
    "# Predict for test set 2 ()\n",
    "preds = pd.Series(isfo_model.predict(df_test2))\n",
    "test = pd.DataFrame({'sensor_04':pd.Series(df_test2['sensor_04'])})\n",
    "isfo_out = pd.DataFrame({'timestamp':df_test2.index, 'Prediction':preds})\n",
    "sensor_04 = df_test2['sensor_04']\n",
    "sensor_04 = sensor_04.reset_index()\n",
    "sensor_04.drop('timestamp', axis = 1, inplace = True)\n",
    "isfo_out['sensor_04'] = sensor_04\n",
    "isfo_out['Prediction'] = isfo_out['Prediction'].map({1: 0, -1: 1})\n",
    "isfo_aly = isfo_out.loc[isfo_out['Prediction'] == 1, ['timestamp', 'sensor_04']] # anomaly\n",
    "print(str(len(isfo_aly)) + ' out of ' + str(len(isfo_out)) + ' (' + str(round(100 * (len(isfo_aly) / len(isfo_out)), 2)) + '%)')\n",
    "isfo_aly2 = isfo_aly"
   ]
  },
  {
   "cell_type": "code",
   "execution_count": null,
   "metadata": {},
   "outputs": [],
   "source": [
    "# Predict for test set 3 ()\n",
    "preds = pd.Series(isfo_model.predict(df_test3))\n",
    "test = pd.DataFrame({'sensor_04':pd.Series(df_test3['sensor_04'])})\n",
    "isfo_out = pd.DataFrame({'timestamp':df_test3.index, 'Prediction':preds})\n",
    "sensor_04 = df_test3['sensor_04']\n",
    "sensor_04 = sensor_04.reset_index()\n",
    "sensor_04.drop('timestamp', axis = 1, inplace = True)\n",
    "isfo_out['sensor_04'] = sensor_04\n",
    "isfo_out['Prediction'] = isfo_out['Prediction'].map({1: 0, -1: 1})\n",
    "isfo_aly = isfo_out.loc[isfo_out['Prediction'] == 1, ['timestamp', 'sensor_04']] # anomaly\n",
    "print(str(len(isfo_aly)) + ' out of ' + str(len(isfo_out)) + ' (' + str(round(100 * (len(isfo_aly) / len(isfo_out)), 2)) + '%)')\n",
    "isfo_aly3 = isfo_aly"
   ]
  },
  {
   "cell_type": "code",
   "execution_count": null,
   "metadata": {},
   "outputs": [],
   "source": [
    "# Visualize machine status over time for the data using sensor04 as reference\n",
    "fig, ax = plt.subplots(figsize = (18, 4))\n",
    "ax.plot(df_set['timestamp'], df_set_scaled['sensor_04'], color = 'lightgrey', marker = '.', zorder = 1, label = 'Sensor_04')\n",
    "ax.scatter(isfo_aly0['timestamp'], isfo_aly0['sensor_04'], color ='green', marker = '.', zorder = 2, label = 'Anomaly: Normal Time')\n",
    "ax.scatter(isfo_aly1['timestamp'], isfo_aly1['sensor_04'], color ='orange', marker = '.', zorder = 2, label = 'Anomaly: Boundary Time')\n",
    "ax.scatter(isfo_aly2['timestamp'], isfo_aly2['sensor_04'], color ='purple', marker = 'X', s = 150, zorder = 5, label = 'Anomaly: Breakdown')\n",
    "ax.scatter(isfo_aly3['timestamp'], isfo_aly3['sensor_04'], color ='grey', marker = '.', zorder = 3, label = 'Anomaly: Recovery')\n",
    "ax.scatter(df_abnorm_broke['timestamp'], df_abnorm_broke['sensor_04'], color = 'red', marker = 'X', zorder = 4, s = 350, label = 'Actual Breakdwon')\n",
    "ax.legend(loc = 'lower right')\n",
    "plt.show()"
   ]
  },
  {
   "cell_type": "markdown",
   "metadata": {},
   "source": [
    "### LSTM"
   ]
  },
  {
   "cell_type": "markdown",
   "metadata": {},
   "source": [
    "RNN learn to recognize sequence in the data and then make prediction based on the previous sequence. We consider an anomaly when the next data points are distant from RNN prediction. Aggregation, size of sequence and size of prediction for anomaly are important parameters to have relevant detection.\n",
    "Here we make learn from 50 previous values, and we predict just the 1 next value."
   ]
  },
  {
   "cell_type": "code",
   "execution_count": null,
   "metadata": {},
   "outputs": [],
   "source": [
    "data_n = df_set_scaled.drop(['timestep', 'machine_status]', axis = 1)\n",
    "\n",
    "# important parameters and train/test size\n",
    "prediction_time = 1 \n",
    "testdatasize = 700\n",
    "unroll_length = 50 # consider n last datapoints (this will be sequence length)\n",
    "testdatacut = testdatasize + unroll_length  + 1\n",
    "\n",
    "pred_chan = 'sensor_04'\n",
    "\n",
    "# train data\n",
    "x_train = data_n[0:-prediction_time-testdatacut].values\n",
    "y_train = data_n[prediction_time:-testdatacut][pred_chan].values\n",
    "\n",
    "# test data\n",
    "x_test = data_n[0-testdatacut:-prediction_time].values\n",
    "y_test = data_n[prediction_time-testdatacut:][pred_chan].values\n",
    "\n",
    "# See the shape\n",
    "print(\"x_train\", x_train.shape)\n",
    "print(\"y_train\", y_train.shape)\n",
    "print(\"x_test\", x_test.shape)\n",
    "print(\"y_test\", y_test.shape)"
   ]
  },
  {
   "cell_type": "code",
   "execution_count": null,
   "metadata": {},
   "outputs": [],
   "source": [
    "#unroll: create sequence of 50 previous data points for each data point\n",
    "def unroll(data, sequence_length = 24):\n",
    "    result = []\n",
    "    for index in range(len(data) - sequence_length):\n",
    "        result.append(data[index: index + sequence_length])\n",
    "    return np.asarray(result)\n",
    "\n",
    "# Adapt the datasets for the sequence data shape\n",
    "x_train = unroll(x_train, unroll_length)\n",
    "x_test  = unroll(x_test, unroll_length)\n",
    "y_train = y_train[-x_train.shape[0]:]\n",
    "y_test  = y_test[-x_test.shape[0]:]\n",
    "\n",
    "# See the shape\n",
    "print(\"x_train\", x_train.shape)\n",
    "print(\"y_train\", y_train.shape)\n",
    "print(\"x_test\", x_test.shape)\n",
    "print(\"y_test\", y_test.shape)"
   ]
  },
  {
   "cell_type": "code",
   "execution_count": null,
   "metadata": {},
   "outputs": [],
   "source": [
    "# Load libraries for RNN\n",
    "# Keras acts as an interface for the TensorFlow library\n",
    "from keras.layers.core import Dense, Activation, Dropout\n",
    "from keras.layers.recurrent import LSTM\n",
    "from keras.models import Sequential\n",
    "import time #helper libraries\n",
    "from keras.models import model_from_json\n",
    "import sys"
   ]
  },
  {
   "cell_type": "code",
   "execution_count": null,
   "metadata": {},
   "outputs": [],
   "source": [
    "# Build the model\n",
    "lstm_model = Sequential()"
   ]
  },
  {
   "cell_type": "code",
   "execution_count": null,
   "metadata": {},
   "outputs": [],
   "source": [
    "lstm_model.add(LSTM(\n",
    "    #input_shape = x_train.shape[-1],\n",
    "    return_sequences = True,\n",
    "    units = 50))"
   ]
  },
  {
   "cell_type": "code",
   "execution_count": null,
   "metadata": {},
   "outputs": [],
   "source": [
    "lstm_model.add(Dropout(0.2))\n",
    "lstm_model.add(LSTM(100, return_sequences = False))\n",
    "lstm_model.add(Dropout(0.2))\n",
    "lstm_model.add(Dense(units = 1))\n",
    "lstm_model.add(Activation('linear'))\n",
    "\n",
    "start = time.time()\n",
    "lstm_model.compile(loss='mse', optimizer='rmsprop')\n",
    "print('compilation time : {}'.format(time.time() - start))"
   ]
  },
  {
   "cell_type": "code",
   "execution_count": null,
   "metadata": {},
   "outputs": [],
   "source": [
    "# Train the model\n",
    "\n",
    "# Some notes on hyperparameters:\n",
    "# ==============================\n",
    "# Batch Size: Hyperparameter of gradient descent that controls the no. of \n",
    "# training samples to work through before the model’s internal parameters are updated.\n",
    "\n",
    "\"\"\"\n",
    "- Batch Gradient Descent: Batch Size = Size of Training Set\n",
    "- Stochastic Gradient Descent: Batch Size = 1\n",
    "- Mini-Batch Gradient Descent: 1 < Batch Size < Size of Training Set\n",
    "In the case of mini-batch gradient descent, popular batch sizes include 32, 64, and 128 samples.\n",
    "\"\"\"\n",
    "\n",
    "# Epochs: Hyperparameter of gradient descent that controls the number of complete \n",
    "# passes through the training dataset.\n",
    "\n",
    "lstm_model.fit(\n",
    "    x_train,\n",
    "    y_train,\n",
    "    batch_size = 3028, # TODO -- Update\n",
    "    epochs = 30,\n",
    "    validation_split = 0.1)"
   ]
  },
  {
   "cell_type": "code",
   "execution_count": null,
   "metadata": {},
   "outputs": [],
   "source": [
    "# Create the list of difference between prediction and test data\n",
    "loaded_model = lstm_model\n",
    "diff = []\n",
    "ratio = []\n",
    "p = loaded_model.predict(x_test)\n",
    "for u in range(len(y_test)):\n",
    "    pr = p[u][0]\n",
    "    ratio.append((y_test[u] / pr) - 1)\n",
    "    diff.append(abs(y_test[u] - pr))"
   ]
  },
  {
   "cell_type": "code",
   "execution_count": null,
   "metadata": {},
   "outputs": [],
   "source": [
    "# plot the prediction and the reality (for the test data)\n",
    "fig, axs = plt.subplots()\n",
    "axs.plot(p, color = 'red', label = 'prediction')\n",
    "axs.plot(y_test, color = 'grey', label = 'actual')\n",
    "plt.legend(loc = 'upper left')\n",
    "plt.show()"
   ]
  },
  {
   "cell_type": "markdown",
   "metadata": {},
   "source": [
    "### LSTM Autoencoder"
   ]
  },
  {
   "cell_type": "code",
   "execution_count": null,
   "metadata": {},
   "outputs": [],
   "source": [
    "import os\n",
    "import pandas as pd\n",
    "import numpy as np\n",
    "from sklearn.preprocessing import MinMaxScaler\n",
    "#from sklearn.externals import joblib\n",
    "import seaborn as sns\n",
    "sns.set(color_codes = True)\n",
    "import matplotlib.pyplot as plt\n",
    "%matplotlib inline\n",
    "\n",
    "from numpy.random import seed\n",
    "import tensorflow as tf\n",
    "#tf.logging.set_verbosity(tf.logging.ERROR)\n",
    "\n",
    "from keras.layers import Input, Dropout, Dense, LSTM, TimeDistributed, RepeatVector\n",
    "from keras.models import Model\n",
    "from keras import regularizers\n",
    "import keras"
   ]
  },
  {
   "cell_type": "code",
   "execution_count": null,
   "metadata": {},
   "outputs": [],
   "source": [
    "# set random seed\n",
    "seed(13)\n",
    "tf.random.set_seed(13)"
   ]
  },
  {
   "cell_type": "code",
   "execution_count": null,
   "metadata": {},
   "outputs": [],
   "source": [
    "# Refresh the data\n",
    "df_train = df_norm.loc[:, include_cols]  \n",
    "df_train = df_train.drop(['machine_status', 'timestamp'], axis = 1)    \n",
    "df_train_df = df_train\n",
    "df_train = df_train.to_numpy()\n",
    "\n",
    "df_test1 = df_abnorm_lead.loc[:, include_cols]\n",
    "df_test1 = df_test1.drop(['machine_status', 'timestamp'], axis = 1)  \n",
    "df_test1_df = df_test1\n",
    "df_test1 = df_test1.to_numpy()\n",
    "\n",
    "df_test2 = df_abnorm_broke.loc[:, include_cols]\n",
    "df_test2 = df_test2.drop(['machine_status', 'timestamp'], axis = 1)  \n",
    "df_test2_df = df_test2\n",
    "df_test2 = df_test2.to_numpy()\n",
    "\n",
    "df_test3 = df_abnorm_recover.loc[:, include_cols]\n",
    "df_test3 = df_test3.drop(['machine_status', 'timestamp'], axis = 1)\n",
    "df_test3_df = df_test3\n",
    "df_test3 = df_test3.to_numpy()"
   ]
  },
  {
   "cell_type": "raw",
   "metadata": {},
   "source": [
    "# transforming data from the time domain to the frequency domain using fast Fourier transform\n",
    "df_train_freq = np.fft.fft(df_train)\n",
    "df_test1_freq = np.fft.fft(df_test)"
   ]
  },
  {
   "cell_type": "raw",
   "metadata": {},
   "source": [
    "# frequencies of the healthy sensor signal\n",
    "fig, ax = plt.subplots(figsize=(14, 6), dpi=80)\n",
    "ax.plot(df_train_freq[:,0].real, label='Bearing 1', color='blue', animated = True, linewidth=1)\n",
    "ax.plot(df_train_freq[:,1].imag, label='Bearing 2', color='red', animated = True, linewidth=1)\n",
    "ax.plot(df_train_freq[:,2].real, label='Bearing 3', color='green', animated = True, linewidth=1)\n",
    "ax.plot(df_train_freq[:,3].real, label='Bearing 4', color='black', animated = True, linewidth=1)\n",
    "plt.legend(loc = 'lower left')\n",
    "ax.set_title('Sensor Training Frequency Data', fontsize=16)\n",
    "plt.show()"
   ]
  },
  {
   "cell_type": "code",
   "execution_count": null,
   "metadata": {},
   "outputs": [],
   "source": [
    "# Reshape inputs for LSTM [samples, timesteps, features]\n",
    "X_train = df_train.reshape(df_train.shape[0], 1, df_train.shape[1])\n",
    "print(\"Training data shape:\", X_train.shape)\n",
    "\n",
    "X_test1 = df_test1.reshape(df_test1.shape[0], 1, df_test1.shape[1])\n",
    "print(\"Test data 1 shape:\", X_test1.shape)\n",
    "\n",
    "X_test2 = df_test2.reshape(df_test2.shape[0], 1, df_test2.shape[1])\n",
    "print(\"Test data 2 shape:\", X_test2.shape)\n",
    "\n",
    "X_test3 = df_test3.reshape(df_test3.shape[0], 1, df_test3.shape[1])\n",
    "print(\"Test data 3 shape:\", X_test3.shape)"
   ]
  },
  {
   "cell_type": "code",
   "execution_count": null,
   "metadata": {},
   "outputs": [],
   "source": [
    "# define the autoencoder network model\n",
    "def autoencoder_model(X):\n",
    "    inputs = Input(shape=(X.shape[1], X.shape[2]))\n",
    "    L1 = LSTM(16, activation='relu', return_sequences=True, \n",
    "              kernel_regularizer=regularizers.l2(0.00))(inputs)\n",
    "    L2 = LSTM(4, activation='relu', return_sequences=False)(L1)\n",
    "    L3 = RepeatVector(X.shape[1])(L2)\n",
    "    L4 = LSTM(4, activation='relu', return_sequences=True)(L3)\n",
    "    L5 = LSTM(16, activation='relu', return_sequences=True)(L4)\n",
    "    output = TimeDistributed(Dense(X.shape[2]))(L5)    \n",
    "    model = Model(inputs=inputs, outputs=output)\n",
    "    return model"
   ]
  },
  {
   "cell_type": "code",
   "execution_count": null,
   "metadata": {},
   "outputs": [],
   "source": [
    "# Create the autoencoder model\n",
    "model = autoencoder_model(X_train)\n",
    "optimizer = keras.optimizers.Adam(lr=0.01)\n",
    "model.compile(optimizer=optimizer, loss='mae')\n",
    "model.summary()"
   ]
  },
  {
   "cell_type": "code",
   "execution_count": null,
   "metadata": {},
   "outputs": [],
   "source": [
    "# Fit the model to the data\n",
    "nb_epochs = 80\n",
    "batch_size = 1000\n",
    "history = model.fit(X_train, X_train, epochs=nb_epochs, batch_size=batch_size, validation_split=0.05).history"
   ]
  },
  {
   "cell_type": "code",
   "execution_count": null,
   "metadata": {},
   "outputs": [],
   "source": [
    "# Plot the training losses\n",
    "fig, ax = plt.subplots(figsize=(14, 6), dpi=80)\n",
    "ax.plot(history['loss'], 'b', label='Train', linewidth=2)\n",
    "ax.plot(history['val_loss'], 'r', label='Validation', linewidth=2)\n",
    "ax.set_title('Model loss', fontsize=16)\n",
    "ax.set_ylabel('Loss (mae)')\n",
    "ax.set_xlabel('Epoch')\n",
    "ax.legend(loc='upper right')\n",
    "plt.show()"
   ]
  },
  {
   "cell_type": "code",
   "execution_count": null,
   "metadata": {},
   "outputs": [],
   "source": [
    "# Plot the loss distribution of the training set\n",
    "X_pred = model.predict(X_train)\n",
    "X_pred = X_pred.reshape(X_pred.shape[0], X_pred.shape[2])\n",
    "X_pred = pd.DataFrame(X_pred, columns=df_train_df.columns)\n",
    "X_pred.index = df_train_df.index\n",
    "\n",
    "scored = pd.DataFrame(index=df_train_df.index)\n",
    "Xtrain = X_train.reshape(X_train.shape[0], X_train.shape[2])\n",
    "scored['Loss_mae'] = np.mean(np.abs(X_pred-Xtrain), axis = 1)\n",
    "plt.figure(figsize=(16,9), dpi=80)\n",
    "plt.title('Loss Distribution', fontsize=16)\n",
    "sns.distplot(scored['Loss_mae'], bins = 20, kde= True, color = 'blue');\n",
    "plt.xlim([0.0, 0.5])"
   ]
  },
  {
   "cell_type": "code",
   "execution_count": null,
   "metadata": {},
   "outputs": [],
   "source": [
    "def calc_test_loss(test, test_df, thresh):\n",
    "    # Calculate the loss on the test set 1\n",
    "    X_pred = model.predict(test)\n",
    "    X_pred = X_pred.reshape(X_pred.shape[0], X_pred.shape[2])\n",
    "    X_pred = pd.DataFrame(X_pred, columns=test_df.columns)\n",
    "    X_pred.index = test_df.index\n",
    "\n",
    "    scored = pd.DataFrame(index=test_df.index)\n",
    "    Xtest = test.reshape(test.shape[0], test.shape[2])\n",
    "    scored['Loss_mae'] = np.mean(np.abs(X_pred - Xtest), axis=1)\n",
    "    scored['Threshold'] = thresh\n",
    "    scored['Anomaly'] = scored['Loss_mae'] > scored['Threshold']\n",
    "    print(scored.head())\n",
    "    return(scored)"
   ]
  },
  {
   "cell_type": "code",
   "execution_count": null,
   "metadata": {},
   "outputs": [],
   "source": [
    "# Calculate the loss on the test set 1\n",
    "selected_threshold = 0.12\n",
    "scored1 = calc_test_loss(X_test1, df_test1_df, selected_threshold)\n",
    "scored2 = calc_test_loss(X_test2, df_test2_df, selected_threshold)\n",
    "scored3 = calc_test_loss(X_test3, df_test3_df, selected_threshold)"
   ]
  },
  {
   "cell_type": "code",
   "execution_count": null,
   "metadata": {},
   "outputs": [],
   "source": [
    "# Calculate the same metrics for the training set \n",
    "# and merge all data in a single dataframe for plotting\n",
    "X_pred_train = model.predict(X_train)\n",
    "X_pred_train = X_pred_train.reshape(X_pred_train.shape[0], X_pred_train.shape[2])\n",
    "X_pred_train = pd.DataFrame(X_pred_train, columns=df_train_df.columns)\n",
    "X_pred_train.index = df_train_df.index\n",
    "\n",
    "scored_train = pd.DataFrame(index=df_train_df.index)\n",
    "scored_train['Loss_mae'] = np.mean(np.abs(X_pred_train-Xtrain), axis = 1)\n",
    "scored_train['Threshold'] = 0.12\n",
    "scored_train['Anomaly'] = scored_train['Loss_mae'] > scored_train['Threshold']\n",
    "\n",
    "scored = pd.concat([scored_train, scored1, scored2, scored3])\n",
    "scored.head()"
   ]
  },
  {
   "cell_type": "code",
   "execution_count": null,
   "metadata": {},
   "outputs": [],
   "source": [
    "# plot bearing failure time plot\n",
    "scored.plot(logy = True,  figsize=(16, 9), ylim=[1e-2, 1e2], color=['blue','red'])"
   ]
  },
  {
   "cell_type": "code",
   "execution_count": null,
   "metadata": {},
   "outputs": [],
   "source": [
    "scored['Threshold'].unique()"
   ]
  },
  {
   "cell_type": "code",
   "execution_count": null,
   "metadata": {},
   "outputs": [],
   "source": [
    "# Save all model information, including weights, in h5 format\n",
    "model.save(\"Cloud_model.h5\")\n",
    "print(\"Model saved\")"
   ]
  }
 ],
 "metadata": {
  "kernelspec": {
   "display_name": "Python 3",
   "language": "python",
   "name": "python3"
  },
  "language_info": {
   "codemirror_mode": {
    "name": "ipython",
    "version": 3
   },
   "file_extension": ".py",
   "mimetype": "text/x-python",
   "name": "python",
   "nbconvert_exporter": "python",
   "pygments_lexer": "ipython3",
   "version": "3.8.12"
  }
 },
 "nbformat": 4,
 "nbformat_minor": 5
}
